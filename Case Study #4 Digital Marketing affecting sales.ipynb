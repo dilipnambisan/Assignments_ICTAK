{
 "cells": [
  {
   "cell_type": "markdown",
   "id": "42d956cd",
   "metadata": {},
   "source": [
    "# The company wishes to clarify whether there is any increase in sales after stepping into digital marketing "
   ]
  },
  {
   "cell_type": "code",
   "execution_count": 1,
   "id": "bbc19b63",
   "metadata": {},
   "outputs": [],
   "source": [
    "import pandas as pd\n",
    "from scipy import stats"
   ]
  },
  {
   "cell_type": "code",
   "execution_count": 66,
   "id": "e2811399",
   "metadata": {},
   "outputs": [
    {
     "data": {
      "text/html": [
       "<div>\n",
       "<style scoped>\n",
       "    .dataframe tbody tr th:only-of-type {\n",
       "        vertical-align: middle;\n",
       "    }\n",
       "\n",
       "    .dataframe tbody tr th {\n",
       "        vertical-align: top;\n",
       "    }\n",
       "\n",
       "    .dataframe thead th {\n",
       "        text-align: right;\n",
       "    }\n",
       "</style>\n",
       "<table border=\"1\" class=\"dataframe\">\n",
       "  <thead>\n",
       "    <tr style=\"text-align: right;\">\n",
       "      <th></th>\n",
       "      <th>Month</th>\n",
       "      <th>Region</th>\n",
       "      <th>Manager</th>\n",
       "      <th>Sales_before_digital_add(in $)</th>\n",
       "      <th>Sales_After_digital_add(in $)</th>\n",
       "    </tr>\n",
       "  </thead>\n",
       "  <tbody>\n",
       "    <tr>\n",
       "      <th>0</th>\n",
       "      <td>Month-1</td>\n",
       "      <td>Region - A</td>\n",
       "      <td>Manager - A</td>\n",
       "      <td>132921</td>\n",
       "      <td>270390</td>\n",
       "    </tr>\n",
       "    <tr>\n",
       "      <th>1</th>\n",
       "      <td>Month-2</td>\n",
       "      <td>Region - A</td>\n",
       "      <td>Manager - C</td>\n",
       "      <td>149559</td>\n",
       "      <td>223334</td>\n",
       "    </tr>\n",
       "    <tr>\n",
       "      <th>2</th>\n",
       "      <td>Month-3</td>\n",
       "      <td>Region - B</td>\n",
       "      <td>Manager - A</td>\n",
       "      <td>146278</td>\n",
       "      <td>244243</td>\n",
       "    </tr>\n",
       "    <tr>\n",
       "      <th>3</th>\n",
       "      <td>Month-4</td>\n",
       "      <td>Region - B</td>\n",
       "      <td>Manager - B</td>\n",
       "      <td>152167</td>\n",
       "      <td>231808</td>\n",
       "    </tr>\n",
       "    <tr>\n",
       "      <th>4</th>\n",
       "      <td>Month-5</td>\n",
       "      <td>Region - C</td>\n",
       "      <td>Manager - B</td>\n",
       "      <td>159525</td>\n",
       "      <td>258402</td>\n",
       "    </tr>\n",
       "  </tbody>\n",
       "</table>\n",
       "</div>"
      ],
      "text/plain": [
       "     Month      Region      Manager  Sales_before_digital_add(in $)  \\\n",
       "0  Month-1  Region - A  Manager - A                          132921   \n",
       "1  Month-2  Region - A  Manager - C                          149559   \n",
       "2  Month-3  Region - B  Manager - A                          146278   \n",
       "3  Month-4  Region - B  Manager - B                          152167   \n",
       "4  Month-5  Region - C  Manager - B                          159525   \n",
       "\n",
       "   Sales_After_digital_add(in $)  \n",
       "0                         270390  \n",
       "1                         223334  \n",
       "2                         244243  \n",
       "3                         231808  \n",
       "4                         258402  "
      ]
     },
     "execution_count": 66,
     "metadata": {},
     "output_type": "execute_result"
    }
   ],
   "source": [
    "data = pd.read_csv('Sales_add.csv')\n",
    "data.head()"
   ]
  },
  {
   "cell_type": "code",
   "execution_count": 3,
   "id": "74020acc",
   "metadata": {},
   "outputs": [
    {
     "data": {
      "text/html": [
       "<div>\n",
       "<style scoped>\n",
       "    .dataframe tbody tr th:only-of-type {\n",
       "        vertical-align: middle;\n",
       "    }\n",
       "\n",
       "    .dataframe tbody tr th {\n",
       "        vertical-align: top;\n",
       "    }\n",
       "\n",
       "    .dataframe thead th {\n",
       "        text-align: right;\n",
       "    }\n",
       "</style>\n",
       "<table border=\"1\" class=\"dataframe\">\n",
       "  <thead>\n",
       "    <tr style=\"text-align: right;\">\n",
       "      <th></th>\n",
       "      <th>Sales_before_digital_add(in $)</th>\n",
       "      <th>Sales_After_digital_add(in $)</th>\n",
       "    </tr>\n",
       "  </thead>\n",
       "  <tbody>\n",
       "    <tr>\n",
       "      <th>count</th>\n",
       "      <td>22.000000</td>\n",
       "      <td>22.000000</td>\n",
       "    </tr>\n",
       "    <tr>\n",
       "      <th>mean</th>\n",
       "      <td>149239.954545</td>\n",
       "      <td>231123.727273</td>\n",
       "    </tr>\n",
       "    <tr>\n",
       "      <th>std</th>\n",
       "      <td>14844.042921</td>\n",
       "      <td>25556.777061</td>\n",
       "    </tr>\n",
       "    <tr>\n",
       "      <th>min</th>\n",
       "      <td>130263.000000</td>\n",
       "      <td>187305.000000</td>\n",
       "    </tr>\n",
       "    <tr>\n",
       "      <th>25%</th>\n",
       "      <td>138087.750000</td>\n",
       "      <td>214960.750000</td>\n",
       "    </tr>\n",
       "    <tr>\n",
       "      <th>50%</th>\n",
       "      <td>147444.000000</td>\n",
       "      <td>229986.500000</td>\n",
       "    </tr>\n",
       "    <tr>\n",
       "      <th>75%</th>\n",
       "      <td>157627.500000</td>\n",
       "      <td>250909.000000</td>\n",
       "    </tr>\n",
       "    <tr>\n",
       "      <th>max</th>\n",
       "      <td>178939.000000</td>\n",
       "      <td>276279.000000</td>\n",
       "    </tr>\n",
       "  </tbody>\n",
       "</table>\n",
       "</div>"
      ],
      "text/plain": [
       "       Sales_before_digital_add(in $)  Sales_After_digital_add(in $)\n",
       "count                       22.000000                      22.000000\n",
       "mean                    149239.954545                  231123.727273\n",
       "std                      14844.042921                   25556.777061\n",
       "min                     130263.000000                  187305.000000\n",
       "25%                     138087.750000                  214960.750000\n",
       "50%                     147444.000000                  229986.500000\n",
       "75%                     157627.500000                  250909.000000\n",
       "max                     178939.000000                  276279.000000"
      ]
     },
     "execution_count": 3,
     "metadata": {},
     "output_type": "execute_result"
    }
   ],
   "source": [
    "data.describe()"
   ]
  },
  {
   "cell_type": "code",
   "execution_count": 5,
   "id": "9053bcda",
   "metadata": {},
   "outputs": [
    {
     "data": {
      "text/plain": [
       "Month                             0\n",
       "Region                            0\n",
       "Manager                           0\n",
       "Sales_before_digital_add(in $)    0\n",
       "Sales_After_digital_add(in $)     0\n",
       "dtype: int64"
      ]
     },
     "execution_count": 5,
     "metadata": {},
     "output_type": "execute_result"
    }
   ],
   "source": [
    "data.isna().sum()"
   ]
  },
  {
   "cell_type": "code",
   "execution_count": 6,
   "id": "fd490e2a",
   "metadata": {},
   "outputs": [
    {
     "data": {
      "text/plain": [
       "Manager - A    9\n",
       "Manager - B    7\n",
       "Manager - C    6\n",
       "Name: Manager, dtype: int64"
      ]
     },
     "execution_count": 6,
     "metadata": {},
     "output_type": "execute_result"
    }
   ],
   "source": [
    "data['Manager'].value_counts()"
   ]
  },
  {
   "cell_type": "code",
   "execution_count": 7,
   "id": "1639c27e",
   "metadata": {},
   "outputs": [
    {
     "data": {
      "text/plain": [
       "Region - A    10\n",
       "Region - B     7\n",
       "Region - C     5\n",
       "Name: Region, dtype: int64"
      ]
     },
     "execution_count": 7,
     "metadata": {},
     "output_type": "execute_result"
    }
   ],
   "source": [
    "data['Region'].value_counts()"
   ]
  },
  {
   "cell_type": "code",
   "execution_count": 70,
   "id": "276865c3",
   "metadata": {},
   "outputs": [],
   "source": [
    "data.columns = ['Month','Region','Manager','timerange1','timerange2']"
   ]
  },
  {
   "cell_type": "code",
   "execution_count": 71,
   "id": "1bae6493",
   "metadata": {},
   "outputs": [
    {
     "data": {
      "text/html": [
       "<div>\n",
       "<style scoped>\n",
       "    .dataframe tbody tr th:only-of-type {\n",
       "        vertical-align: middle;\n",
       "    }\n",
       "\n",
       "    .dataframe tbody tr th {\n",
       "        vertical-align: top;\n",
       "    }\n",
       "\n",
       "    .dataframe thead th {\n",
       "        text-align: right;\n",
       "    }\n",
       "</style>\n",
       "<table border=\"1\" class=\"dataframe\">\n",
       "  <thead>\n",
       "    <tr style=\"text-align: right;\">\n",
       "      <th></th>\n",
       "      <th>Month</th>\n",
       "      <th>Region</th>\n",
       "      <th>Manager</th>\n",
       "      <th>timerange</th>\n",
       "      <th>Sales</th>\n",
       "    </tr>\n",
       "  </thead>\n",
       "  <tbody>\n",
       "    <tr>\n",
       "      <th>0</th>\n",
       "      <td>Month-1</td>\n",
       "      <td>Region - A</td>\n",
       "      <td>Manager - A</td>\n",
       "      <td>timerange1</td>\n",
       "      <td>132921</td>\n",
       "    </tr>\n",
       "    <tr>\n",
       "      <th>1</th>\n",
       "      <td>Month-2</td>\n",
       "      <td>Region - A</td>\n",
       "      <td>Manager - C</td>\n",
       "      <td>timerange1</td>\n",
       "      <td>149559</td>\n",
       "    </tr>\n",
       "    <tr>\n",
       "      <th>2</th>\n",
       "      <td>Month-3</td>\n",
       "      <td>Region - B</td>\n",
       "      <td>Manager - A</td>\n",
       "      <td>timerange1</td>\n",
       "      <td>146278</td>\n",
       "    </tr>\n",
       "    <tr>\n",
       "      <th>3</th>\n",
       "      <td>Month-4</td>\n",
       "      <td>Region - B</td>\n",
       "      <td>Manager - B</td>\n",
       "      <td>timerange1</td>\n",
       "      <td>152167</td>\n",
       "    </tr>\n",
       "    <tr>\n",
       "      <th>4</th>\n",
       "      <td>Month-5</td>\n",
       "      <td>Region - C</td>\n",
       "      <td>Manager - B</td>\n",
       "      <td>timerange1</td>\n",
       "      <td>159525</td>\n",
       "    </tr>\n",
       "  </tbody>\n",
       "</table>\n",
       "</div>"
      ],
      "text/plain": [
       "     Month      Region      Manager   timerange   Sales\n",
       "0  Month-1  Region - A  Manager - A  timerange1  132921\n",
       "1  Month-2  Region - A  Manager - C  timerange1  149559\n",
       "2  Month-3  Region - B  Manager - A  timerange1  146278\n",
       "3  Month-4  Region - B  Manager - B  timerange1  152167\n",
       "4  Month-5  Region - C  Manager - B  timerange1  159525"
      ]
     },
     "execution_count": 71,
     "metadata": {},
     "output_type": "execute_result"
    }
   ],
   "source": [
    "data_mlt = data.melt(['Month','Region','Manager'],['timerange1','timerange2'],'timerange','Sales')\n",
    "data_mlt.head()"
   ]
  },
  {
   "cell_type": "code",
   "execution_count": 72,
   "id": "5da4aaba",
   "metadata": {},
   "outputs": [],
   "source": [
    "data_mlt['timerange']=data_mlt['timerange'].apply(lambda s: int(s[9]))"
   ]
  },
  {
   "cell_type": "code",
   "execution_count": 73,
   "id": "6c0c4293",
   "metadata": {},
   "outputs": [
    {
     "data": {
      "text/html": [
       "<div>\n",
       "<style scoped>\n",
       "    .dataframe tbody tr th:only-of-type {\n",
       "        vertical-align: middle;\n",
       "    }\n",
       "\n",
       "    .dataframe tbody tr th {\n",
       "        vertical-align: top;\n",
       "    }\n",
       "\n",
       "    .dataframe thead th {\n",
       "        text-align: right;\n",
       "    }\n",
       "</style>\n",
       "<table border=\"1\" class=\"dataframe\">\n",
       "  <thead>\n",
       "    <tr style=\"text-align: right;\">\n",
       "      <th></th>\n",
       "      <th>Month</th>\n",
       "      <th>Region</th>\n",
       "      <th>Manager</th>\n",
       "      <th>timerange</th>\n",
       "      <th>Sales</th>\n",
       "    </tr>\n",
       "  </thead>\n",
       "  <tbody>\n",
       "    <tr>\n",
       "      <th>0</th>\n",
       "      <td>Month-1</td>\n",
       "      <td>Region - A</td>\n",
       "      <td>Manager - A</td>\n",
       "      <td>1</td>\n",
       "      <td>132921</td>\n",
       "    </tr>\n",
       "    <tr>\n",
       "      <th>1</th>\n",
       "      <td>Month-2</td>\n",
       "      <td>Region - A</td>\n",
       "      <td>Manager - C</td>\n",
       "      <td>1</td>\n",
       "      <td>149559</td>\n",
       "    </tr>\n",
       "    <tr>\n",
       "      <th>2</th>\n",
       "      <td>Month-3</td>\n",
       "      <td>Region - B</td>\n",
       "      <td>Manager - A</td>\n",
       "      <td>1</td>\n",
       "      <td>146278</td>\n",
       "    </tr>\n",
       "    <tr>\n",
       "      <th>3</th>\n",
       "      <td>Month-4</td>\n",
       "      <td>Region - B</td>\n",
       "      <td>Manager - B</td>\n",
       "      <td>1</td>\n",
       "      <td>152167</td>\n",
       "    </tr>\n",
       "    <tr>\n",
       "      <th>4</th>\n",
       "      <td>Month-5</td>\n",
       "      <td>Region - C</td>\n",
       "      <td>Manager - B</td>\n",
       "      <td>1</td>\n",
       "      <td>159525</td>\n",
       "    </tr>\n",
       "  </tbody>\n",
       "</table>\n",
       "</div>"
      ],
      "text/plain": [
       "     Month      Region      Manager  timerange   Sales\n",
       "0  Month-1  Region - A  Manager - A          1  132921\n",
       "1  Month-2  Region - A  Manager - C          1  149559\n",
       "2  Month-3  Region - B  Manager - A          1  146278\n",
       "3  Month-4  Region - B  Manager - B          1  152167\n",
       "4  Month-5  Region - C  Manager - B          1  159525"
      ]
     },
     "execution_count": 73,
     "metadata": {},
     "output_type": "execute_result"
    }
   ],
   "source": [
    "data_mlt.head()"
   ]
  },
  {
   "cell_type": "code",
   "execution_count": 79,
   "id": "2b753392",
   "metadata": {},
   "outputs": [],
   "source": [
    "timeframedata=data_mlt.groupby(['Month','timerange'])['Sales'].sum().reset_index()"
   ]
  },
  {
   "cell_type": "code",
   "execution_count": 80,
   "id": "ce5c173e",
   "metadata": {
    "scrolled": true
   },
   "outputs": [
    {
     "data": {
      "text/html": [
       "<div>\n",
       "<style scoped>\n",
       "    .dataframe tbody tr th:only-of-type {\n",
       "        vertical-align: middle;\n",
       "    }\n",
       "\n",
       "    .dataframe tbody tr th {\n",
       "        vertical-align: top;\n",
       "    }\n",
       "\n",
       "    .dataframe thead th {\n",
       "        text-align: right;\n",
       "    }\n",
       "</style>\n",
       "<table border=\"1\" class=\"dataframe\">\n",
       "  <thead>\n",
       "    <tr style=\"text-align: right;\">\n",
       "      <th></th>\n",
       "      <th>Month</th>\n",
       "      <th>timerange</th>\n",
       "      <th>Sales</th>\n",
       "    </tr>\n",
       "  </thead>\n",
       "  <tbody>\n",
       "    <tr>\n",
       "      <th>0</th>\n",
       "      <td>Month-1</td>\n",
       "      <td>1</td>\n",
       "      <td>132921</td>\n",
       "    </tr>\n",
       "    <tr>\n",
       "      <th>1</th>\n",
       "      <td>Month-1</td>\n",
       "      <td>2</td>\n",
       "      <td>270390</td>\n",
       "    </tr>\n",
       "    <tr>\n",
       "      <th>2</th>\n",
       "      <td>Month-10</td>\n",
       "      <td>1</td>\n",
       "      <td>141956</td>\n",
       "    </tr>\n",
       "    <tr>\n",
       "      <th>3</th>\n",
       "      <td>Month-10</td>\n",
       "      <td>2</td>\n",
       "      <td>193735</td>\n",
       "    </tr>\n",
       "    <tr>\n",
       "      <th>4</th>\n",
       "      <td>Month-11</td>\n",
       "      <td>1</td>\n",
       "      <td>159339</td>\n",
       "    </tr>\n",
       "  </tbody>\n",
       "</table>\n",
       "</div>"
      ],
      "text/plain": [
       "      Month  timerange   Sales\n",
       "0   Month-1          1  132921\n",
       "1   Month-1          2  270390\n",
       "2  Month-10          1  141956\n",
       "3  Month-10          2  193735\n",
       "4  Month-11          1  159339"
      ]
     },
     "execution_count": 80,
     "metadata": {},
     "output_type": "execute_result"
    }
   ],
   "source": [
    "timeframedata.head()"
   ]
  },
  {
   "cell_type": "code",
   "execution_count": 98,
   "id": "b0b8f63e",
   "metadata": {
    "scrolled": true
   },
   "outputs": [
    {
     "data": {
      "image/png": "[encoded data removed]",
      "text/plain": [
       "<Figure size 1008x576 with 1 Axes>"
      ]
     },
     "metadata": {
      "needs_background": "light"
     },
     "output_type": "display_data"
    }
   ],
   "source": [
    "import seaborn as sns\n",
    "import matplotlib.pyplot as plt\n",
    "\n",
    "plt.figure(figsize=(14,8))\n",
    "g = sns.barplot(data = timeframedata,\n",
    "           x='Month',\n",
    "           y='Sales',\n",
    "           hue='timerange',\n",
    "           ci= None\n",
    "           )\n",
    "\n",
    "g.set_xticklabels(\n",
    "    labels = g.get_xticklabels(),\n",
    "    rotation = 90,\n",
    "    )\n",
    "plt.show()"
   ]
  },
  {
   "cell_type": "markdown",
   "id": "2a16d62e",
   "metadata": {},
   "source": [
    "\n",
    "# Visually, we can see that during the time period 2, which is after digital marketing was introduced, the sales figures are all higher (orange colour)"
   ]
  },
  {
   "cell_type": "markdown",
   "id": "456fc77b",
   "metadata": {},
   "source": [
    "To find the sum of sales for all the 22 months prior to introduction of digital marketing, we add all \"Sales\" values, for timerange='1'"
   ]
  },
  {
   "cell_type": "code",
   "execution_count": 93,
   "id": "bbd1f2ef",
   "metadata": {},
   "outputs": [],
   "source": [
    "filt_bef_DM = data_mlt['timerange'] == 1"
   ]
  },
  {
   "cell_type": "code",
   "execution_count": 94,
   "id": "3c90cb90",
   "metadata": {},
   "outputs": [
    {
     "data": {
      "text/plain": [
       "3283279"
      ]
     },
     "execution_count": 94,
     "metadata": {},
     "output_type": "execute_result"
    }
   ],
   "source": [
    "data_mlt.loc[filt_bef_DM, 'Sales'].sum()"
   ]
  },
  {
   "cell_type": "markdown",
   "id": "df1f9da1",
   "metadata": {},
   "source": [
    "To find the sum of all the 22 months after introduction of digital marketing, we add all \"Sales\" values, for timerange='2'"
   ]
  },
  {
   "cell_type": "code",
   "execution_count": 95,
   "id": "0ac5fca5",
   "metadata": {},
   "outputs": [],
   "source": [
    "filt_aft_DM = data_mlt['timerange'] == 2"
   ]
  },
  {
   "cell_type": "code",
   "execution_count": 96,
   "id": "f58b9b62",
   "metadata": {},
   "outputs": [
    {
     "data": {
      "text/plain": [
       "5084722"
      ]
     },
     "execution_count": 96,
     "metadata": {},
     "output_type": "execute_result"
    }
   ],
   "source": [
    "data_mlt.loc[filt_aft_DM, 'Sales'].sum()"
   ]
  },
  {
   "cell_type": "markdown",
   "id": "49dd2601",
   "metadata": {},
   "source": [
    "**The above figures show that sum of sales before DM was 3.28 million USD and after DM was 5.08 million USD**"
   ]
  },
  {
   "cell_type": "markdown",
   "id": "48ef65db",
   "metadata": {},
   "source": [
    "# To determine the relationship between \"Region\" and \"Manager\", we need to perform a chi-squared test between the two categorical variables."
   ]
  },
  {
   "cell_type": "code",
   "execution_count": 83,
   "id": "1849cb60",
   "metadata": {},
   "outputs": [],
   "source": [
    "ct = pd.crosstab(data.Region, data.Manager, margins=True)"
   ]
  },
  {
   "cell_type": "code",
   "execution_count": 84,
   "id": "64dbe53b",
   "metadata": {},
   "outputs": [
    {
     "name": "stdout",
     "output_type": "stream",
     "text": [
      "Manager     Manager - A  Manager - B  Manager - C  All\n",
      "Region                                                \n",
      "Region - A            4            3            3   10\n",
      "Region - B            4            1            2    7\n",
      "Region - C            1            3            1    5\n",
      "All                   9            7            6   22\n"
     ]
    }
   ],
   "source": [
    "print(ct)"
   ]
  },
  {
   "cell_type": "code",
   "execution_count": 86,
   "id": "ca6ab9d1",
   "metadata": {},
   "outputs": [
    {
     "data": {
      "text/plain": [
       "(3.050566893424036, 0.5493991051158094, 4)"
      ]
     },
     "execution_count": 86,
     "metadata": {},
     "output_type": "execute_result"
    }
   ],
   "source": [
    "import numpy as np\n",
    "obs=np.array([ct.iloc[0][0:3].values,\n",
    "             ct.iloc[1][0:3].values,\n",
    "              ct.iloc[2][0:3].values])\n",
    "stats.chi2_contingency(obs)[0:3]"
   ]
  },
  {
   "cell_type": "markdown",
   "id": "40780ef2",
   "metadata": {},
   "source": [
    "**Since the value of p is 0.549, with a cut-off of 0.05, we fail to reject the null hypothesis of no significant relationship between \"Region\" and \"Manager\". In other words, the data does not suggest a relationship between \"Region\" and \"Manager\"**"
   ]
  },
  {
   "cell_type": "code",
   "execution_count": null,
   "id": "6877611e",
   "metadata": {},
   "outputs": [],
   "source": []
  }
 ],
 "metadata": {
  "kernelspec": {
   "display_name": "Python 3",
   "language": "python",
   "name": "python3"
  },
  "language_info": {
   "codemirror_mode": {
    "name": "ipython",
    "version": 3
   },
   "file_extension": ".py",
   "mimetype": "text/x-python",
   "name": "python",
   "nbconvert_exporter": "python",
   "pygments_lexer": "ipython3",
   "version": "3.8.8"
  }
 },
 "nbformat": 4,
 "nbformat_minor": 5
}
