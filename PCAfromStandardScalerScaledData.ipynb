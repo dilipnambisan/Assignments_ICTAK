{
 "cells": [
  {
   "cell_type": "code",
   "execution_count": 1,
   "id": "35e3a82c",
   "metadata": {},
   "outputs": [],
   "source": [
    "import pandas as pd\n",
    "import matplotlib.pyplot as plt"
   ]
  },
  {
   "cell_type": "code",
   "execution_count": 3,
   "id": "b408f090",
   "metadata": {},
   "outputs": [
    {
     "data": {
      "text/plain": [
       "(178, 13)"
      ]
     },
     "execution_count": 3,
     "metadata": {},
     "output_type": "execute_result"
    }
   ],
   "source": [
    "wine_df = pd.read_csv('Wine.csv')\n",
    "wine_df.shape"
   ]
  },
  {
   "cell_type": "markdown",
   "id": "260ebd09",
   "metadata": {},
   "source": [
    "# Outlier Treatment"
   ]
  },
  {
   "cell_type": "code",
   "execution_count": 4,
   "id": "e4a1cc1a",
   "metadata": {},
   "outputs": [],
   "source": [
    "import numpy as np\n",
    "feature=['Malic_Acid','Ash','Ash_Alcanity','Magnesium','Proanthocyanins','Color_Intensity','Hue']\n",
    "for i in feature:\n",
    "    Q1=np.percentile(wine_df[i], 25, interpolation='midpoint')\n",
    "    Q2=np.percentile(wine_df[i], 50, interpolation='midpoint')\n",
    "    Q3=np.percentile(wine_df[i], 75, interpolation='midpoint')\n",
    "    IQR=Q3-Q1\n",
    "    low_lim=Q1-1.5*IQR\n",
    "    up_lim=Q3+1.5*IQR\n",
    "    filt_for_del=(wine_df[i]>up_lim) | (wine_df[i]<low_lim)\n",
    "    slice_for_del=wine_df.loc[filt_for_del,:]\n",
    "    index_to_del=slice_for_del.index\n",
    "    index_to_del_list = index_to_del.to_list()\n",
    "    wine_df.drop(index_to_del_list, inplace=True)"
   ]
  },
  {
   "cell_type": "code",
   "execution_count": 5,
   "id": "1c8eba29",
   "metadata": {},
   "outputs": [
    {
     "data": {
      "text/plain": [
       "(161, 13)"
      ]
     },
     "execution_count": 5,
     "metadata": {},
     "output_type": "execute_result"
    }
   ],
   "source": [
    "wine_df.shape"
   ]
  },
  {
   "cell_type": "markdown",
   "id": "cde3e03a",
   "metadata": {},
   "source": [
    "# Scaling the data using Standard Scaler"
   ]
  },
  {
   "cell_type": "code",
   "execution_count": 7,
   "id": "b9cce0b4",
   "metadata": {},
   "outputs": [
    {
     "data": {
      "text/html": [
       "<div>\n",
       "<style scoped>\n",
       "    .dataframe tbody tr th:only-of-type {\n",
       "        vertical-align: middle;\n",
       "    }\n",
       "\n",
       "    .dataframe tbody tr th {\n",
       "        vertical-align: top;\n",
       "    }\n",
       "\n",
       "    .dataframe thead th {\n",
       "        text-align: right;\n",
       "    }\n",
       "</style>\n",
       "<table border=\"1\" class=\"dataframe\">\n",
       "  <thead>\n",
       "    <tr style=\"text-align: right;\">\n",
       "      <th></th>\n",
       "      <th>Alcohol</th>\n",
       "      <th>Malic_Acid</th>\n",
       "      <th>Ash</th>\n",
       "      <th>Ash_Alcanity</th>\n",
       "      <th>Magnesium</th>\n",
       "      <th>Total_Phenols</th>\n",
       "      <th>Flavanoids</th>\n",
       "      <th>Nonflavanoid_Phenols</th>\n",
       "      <th>Proanthocyanins</th>\n",
       "      <th>Color_Intensity</th>\n",
       "      <th>Hue</th>\n",
       "      <th>OD280</th>\n",
       "      <th>Proline</th>\n",
       "    </tr>\n",
       "  </thead>\n",
       "  <tbody>\n",
       "    <tr>\n",
       "      <th>count</th>\n",
       "      <td>1.610000e+02</td>\n",
       "      <td>1.610000e+02</td>\n",
       "      <td>1.610000e+02</td>\n",
       "      <td>1.610000e+02</td>\n",
       "      <td>1.610000e+02</td>\n",
       "      <td>1.610000e+02</td>\n",
       "      <td>1.610000e+02</td>\n",
       "      <td>1.610000e+02</td>\n",
       "      <td>1.610000e+02</td>\n",
       "      <td>1.610000e+02</td>\n",
       "      <td>1.610000e+02</td>\n",
       "      <td>1.610000e+02</td>\n",
       "      <td>1.610000e+02</td>\n",
       "    </tr>\n",
       "    <tr>\n",
       "      <th>mean</th>\n",
       "      <td>3.082420e-15</td>\n",
       "      <td>-1.130910e-16</td>\n",
       "      <td>8.936951e-16</td>\n",
       "      <td>-7.033711e-17</td>\n",
       "      <td>-2.770386e-16</td>\n",
       "      <td>1.999781e-17</td>\n",
       "      <td>-5.047722e-16</td>\n",
       "      <td>-3.020358e-16</td>\n",
       "      <td>-4.585704e-17</td>\n",
       "      <td>2.358362e-16</td>\n",
       "      <td>9.336907e-16</td>\n",
       "      <td>-8.137038e-17</td>\n",
       "      <td>-2.965192e-17</td>\n",
       "    </tr>\n",
       "    <tr>\n",
       "      <th>std</th>\n",
       "      <td>1.003120e+00</td>\n",
       "      <td>1.003120e+00</td>\n",
       "      <td>1.003120e+00</td>\n",
       "      <td>1.003120e+00</td>\n",
       "      <td>1.003120e+00</td>\n",
       "      <td>1.003120e+00</td>\n",
       "      <td>1.003120e+00</td>\n",
       "      <td>1.003120e+00</td>\n",
       "      <td>1.003120e+00</td>\n",
       "      <td>1.003120e+00</td>\n",
       "      <td>1.003120e+00</td>\n",
       "      <td>1.003120e+00</td>\n",
       "      <td>1.003120e+00</td>\n",
       "    </tr>\n",
       "    <tr>\n",
       "      <th>min</th>\n",
       "      <td>-2.059161e+00</td>\n",
       "      <td>-1.502862e+00</td>\n",
       "      <td>-2.755979e+00</td>\n",
       "      <td>-2.732175e+00</td>\n",
       "      <td>-2.312593e+00</td>\n",
       "      <td>-2.074034e+00</td>\n",
       "      <td>-1.724192e+00</td>\n",
       "      <td>-1.885730e+00</td>\n",
       "      <td>-2.203572e+00</td>\n",
       "      <td>-1.747222e+00</td>\n",
       "      <td>-1.924002e+00</td>\n",
       "      <td>-1.898052e+00</td>\n",
       "      <td>-1.501825e+00</td>\n",
       "    </tr>\n",
       "    <tr>\n",
       "      <th>25%</th>\n",
       "      <td>-8.423697e-01</td>\n",
       "      <td>-6.743920e-01</td>\n",
       "      <td>-5.583556e-01</td>\n",
       "      <td>-7.084969e-01</td>\n",
       "      <td>-8.566089e-01</td>\n",
       "      <td>-9.257223e-01</td>\n",
       "      <td>-8.451773e-01</td>\n",
       "      <td>-7.329132e-01</td>\n",
       "      <td>-5.832379e-01</td>\n",
       "      <td>-8.209962e-01</td>\n",
       "      <td>-7.703344e-01</td>\n",
       "      <td>-8.716036e-01</td>\n",
       "      <td>-7.948163e-01</td>\n",
       "    </tr>\n",
       "    <tr>\n",
       "      <th>50%</th>\n",
       "      <td>4.487390e-02</td>\n",
       "      <td>-4.363261e-01</td>\n",
       "      <td>-1.931581e-02</td>\n",
       "      <td>-1.013934e-01</td>\n",
       "      <td>-4.772894e-02</td>\n",
       "      <td>6.310167e-02</td>\n",
       "      <td>1.053853e-01</td>\n",
       "      <td>-1.565048e-01</td>\n",
       "      <td>-1.147075e-01</td>\n",
       "      <td>-1.088726e-01</td>\n",
       "      <td>1.415929e-02</td>\n",
       "      <td>2.251497e-01</td>\n",
       "      <td>-2.487783e-01</td>\n",
       "    </tr>\n",
       "    <tr>\n",
       "      <th>75%</th>\n",
       "      <td>8.307182e-01</td>\n",
       "      <td>7.444810e-01</td>\n",
       "      <td>7.270469e-01</td>\n",
       "      <td>5.731660e-01</td>\n",
       "      <td>5.993751e-01</td>\n",
       "      <td>8.286428e-01</td>\n",
       "      <td>8.924102e-01</td>\n",
       "      <td>5.845916e-01</td>\n",
       "      <td>6.466544e-01</td>\n",
       "      <td>5.427439e-01</td>\n",
       "      <td>7.525063e-01</td>\n",
       "      <td>7.875873e-01</td>\n",
       "      <td>8.401414e-01</td>\n",
       "    </tr>\n",
       "    <tr>\n",
       "      <th>max</th>\n",
       "      <td>2.275658e+00</td>\n",
       "      <td>2.734712e+00</td>\n",
       "      <td>2.302702e+00</td>\n",
       "      <td>2.596844e+00</td>\n",
       "      <td>2.864239e+00</td>\n",
       "      <td>2.551110e+00</td>\n",
       "      <td>1.945184e+00</td>\n",
       "      <td>2.478505e+00</td>\n",
       "      <td>2.676953e+00</td>\n",
       "      <td>2.627916e+00</td>\n",
       "      <td>2.275347e+00</td>\n",
       "      <td>1.940584e+00</td>\n",
       "      <td>2.923292e+00</td>\n",
       "    </tr>\n",
       "  </tbody>\n",
       "</table>\n",
       "</div>"
      ],
      "text/plain": [
       "            Alcohol    Malic_Acid           Ash  Ash_Alcanity     Magnesium  \\\n",
       "count  1.610000e+02  1.610000e+02  1.610000e+02  1.610000e+02  1.610000e+02   \n",
       "mean   3.082420e-15 -1.130910e-16  8.936951e-16 -7.033711e-17 -2.770386e-16   \n",
       "std    1.003120e+00  1.003120e+00  1.003120e+00  1.003120e+00  1.003120e+00   \n",
       "min   -2.059161e+00 -1.502862e+00 -2.755979e+00 -2.732175e+00 -2.312593e+00   \n",
       "25%   -8.423697e-01 -6.743920e-01 -5.583556e-01 -7.084969e-01 -8.566089e-01   \n",
       "50%    4.487390e-02 -4.363261e-01 -1.931581e-02 -1.013934e-01 -4.772894e-02   \n",
       "75%    8.307182e-01  7.444810e-01  7.270469e-01  5.731660e-01  5.993751e-01   \n",
       "max    2.275658e+00  2.734712e+00  2.302702e+00  2.596844e+00  2.864239e+00   \n",
       "\n",
       "       Total_Phenols    Flavanoids  Nonflavanoid_Phenols  Proanthocyanins  \\\n",
       "count   1.610000e+02  1.610000e+02          1.610000e+02     1.610000e+02   \n",
       "mean    1.999781e-17 -5.047722e-16         -3.020358e-16    -4.585704e-17   \n",
       "std     1.003120e+00  1.003120e+00          1.003120e+00     1.003120e+00   \n",
       "min    -2.074034e+00 -1.724192e+00         -1.885730e+00    -2.203572e+00   \n",
       "25%    -9.257223e-01 -8.451773e-01         -7.329132e-01    -5.832379e-01   \n",
       "50%     6.310167e-02  1.053853e-01         -1.565048e-01    -1.147075e-01   \n",
       "75%     8.286428e-01  8.924102e-01          5.845916e-01     6.466544e-01   \n",
       "max     2.551110e+00  1.945184e+00          2.478505e+00     2.676953e+00   \n",
       "\n",
       "       Color_Intensity           Hue         OD280       Proline  \n",
       "count     1.610000e+02  1.610000e+02  1.610000e+02  1.610000e+02  \n",
       "mean      2.358362e-16  9.336907e-16 -8.137038e-17 -2.965192e-17  \n",
       "std       1.003120e+00  1.003120e+00  1.003120e+00  1.003120e+00  \n",
       "min      -1.747222e+00 -1.924002e+00 -1.898052e+00 -1.501825e+00  \n",
       "25%      -8.209962e-01 -7.703344e-01 -8.716036e-01 -7.948163e-01  \n",
       "50%      -1.088726e-01  1.415929e-02  2.251497e-01 -2.487783e-01  \n",
       "75%       5.427439e-01  7.525063e-01  7.875873e-01  8.401414e-01  \n",
       "max       2.627916e+00  2.275347e+00  1.940584e+00  2.923292e+00  "
      ]
     },
     "execution_count": 7,
     "metadata": {},
     "output_type": "execute_result"
    }
   ],
   "source": [
    "from sklearn.preprocessing import StandardScaler\n",
    "scaler=StandardScaler()\n",
    "scaled_data= scaler.fit_transform(wine_df)\n",
    "scaled_data= pd.DataFrame(scaled_data, columns=wine_df.columns)\n",
    "scaled_data.describe()"
   ]
  },
  {
   "cell_type": "code",
   "execution_count": 8,
   "id": "b290911f",
   "metadata": {},
   "outputs": [
    {
     "data": {
      "image/png": "[encoded data removed]",
      "text/plain": [
       "<Figure size 864x432 with 1 Axes>"
      ]
     },
     "metadata": {
      "needs_background": "light"
     },
     "output_type": "display_data"
    }
   ],
   "source": [
    "from sklearn.decomposition import PCA\n",
    "pca = PCA().fit(scaled_data)\n",
    "\n",
    "plt.rcParams[\"figure.figsize\"] = (12,6)\n",
    "\n",
    "fig, ax = plt.subplots()\n",
    "xi = np.arange(1,14,step=1)\n",
    "y= np.cumsum(pca.explained_variance_ratio_)\n",
    "\n",
    "\n",
    "plt.ylim = (0.0,1.1)\n",
    "plt.plot(xi, y, marker='o', linestyle='--', color = 'b')\n",
    "plt.xlabel('Number of components')\n",
    "plt.xticks(np.arange(0,14,step=1))\n",
    "plt.ylabel('Cumulative variance (%)')\n",
    "plt.title('The number of components needed to explain variance')\n",
    "\n",
    "plt.axhline(y=0.95, color='r', linestyle='-')\n",
    "plt.text(0.5, 0.85, '95% cutoff threshold', color = 'red', fontsize = 16)\n",
    "\n",
    "ax.grid(axis='x')\n",
    "plt.show()"
   ]
  },
  {
   "cell_type": "markdown",
   "id": "7b6a99b9",
   "metadata": {},
   "source": [
    "# Doing PCA"
   ]
  },
  {
   "cell_type": "code",
   "execution_count": 9,
   "id": "5521e2ac",
   "metadata": {},
   "outputs": [
    {
     "data": {
      "text/plain": [
       "(161, 9)"
      ]
     },
     "execution_count": 9,
     "metadata": {},
     "output_type": "execute_result"
    }
   ],
   "source": [
    "pca = PCA(n_components = 9)\n",
    "pca.fit(scaled_data)\n",
    "x_pca = pca.transform(scaled_data)\n",
    "x_pca.shape"
   ]
  },
  {
   "cell_type": "markdown",
   "id": "1e0501dd",
   "metadata": {},
   "source": [
    "# KMeans"
   ]
  },
  {
   "cell_type": "code",
   "execution_count": 10,
   "id": "3557a421",
   "metadata": {},
   "outputs": [
    {
     "name": "stderr",
     "output_type": "stream",
     "text": [
      "C:\\Users\\Dilip\\anaconda3\\lib\\site-packages\\sklearn\\cluster\\_kmeans.py:881: UserWarning: KMeans is known to have a memory leak on Windows with MKL, when there are less chunks than available threads. You can avoid it by setting the environment variable OMP_NUM_THREADS=1.\n",
      "  warnings.warn(\n"
     ]
    },
    {
     "name": "stdout",
     "output_type": "stream",
     "text": [
      "1973.6690071742523\n",
      "1334.3657269977632\n",
      "962.0434505687807\n",
      "878.7275860447518\n",
      "820.3729456109883\n",
      "773.6018000544801\n",
      "735.138598404961\n",
      "699.9062815465635\n",
      "657.3362873291366\n",
      "638.2389838345312\n"
     ]
    },
    {
     "data": {
      "image/png": "[encoded data removed]",
      "text/plain": [
       "<Figure size 864x432 with 1 Axes>"
      ]
     },
     "metadata": {
      "needs_background": "light"
     },
     "output_type": "display_data"
    }
   ],
   "source": [
    "from sklearn.cluster import KMeans\n",
    "wcss = []\n",
    "for i in range(1,11):\n",
    "    kmeans = KMeans(n_clusters=i, init='k-means++', random_state=42)\n",
    "    kmeans.fit(x_pca)\n",
    "    wcss.append(kmeans.inertia_)\n",
    "    print(kmeans.inertia_)\n",
    "plt.plot(range(1,11),wcss)\n",
    "plt.title('Elbow method to find optimum no. of clusters')\n",
    "plt.xlabel('WCSS')\n",
    "plt.show()"
   ]
  },
  {
   "cell_type": "markdown",
   "id": "601e03d8",
   "metadata": {},
   "source": [
    "**The number of clusters as shown by the PCA method is 3, for KMeans. Let us create the model using this:**"
   ]
  },
  {
   "cell_type": "code",
   "execution_count": 11,
   "id": "649a93e4",
   "metadata": {},
   "outputs": [],
   "source": [
    "kmeans=KMeans(n_clusters=3, init='k-means++', random_state=42)\n",
    "y_means=kmeans.fit_predict(x_pca)\n",
    "Categ_df=pd.DataFrame(data=y_means,columns=[\"Category\"])\n",
    "KMeansFinal_df=wine_df.join(Categ_df)"
   ]
  },
  {
   "cell_type": "code",
   "execution_count": 12,
   "id": "c8c99737",
   "metadata": {},
   "outputs": [
    {
     "data": {
      "text/plain": [
       "2.0    55\n",
       "0.0    51\n",
       "1.0    39\n",
       "Name: Category, dtype: int64"
      ]
     },
     "execution_count": 12,
     "metadata": {},
     "output_type": "execute_result"
    }
   ],
   "source": [
    "KMeansFinal_df['Category'].value_counts()"
   ]
  },
  {
   "cell_type": "markdown",
   "id": "b7573dd7",
   "metadata": {},
   "source": [
    "**According to the PCA procedure, using KMeans, with Normalized data, we have 3 categories:** ***category 0 with 51 datapoints, category 1 with 39 datapoints and category 2 with 55 datapoints***.**Now, let us attempt the AHC**"
   ]
  },
  {
   "cell_type": "code",
   "execution_count": 13,
   "id": "5748ae9c",
   "metadata": {},
   "outputs": [
    {
     "data": {
      "image/png": "[encoded data removed]",
      "text/plain": [
       "<Figure size 1080x1296 with 1 Axes>"
      ]
     },
     "metadata": {
      "needs_background": "light"
     },
     "output_type": "display_data"
    }
   ],
   "source": [
    "import scipy.cluster.hierarchy as sch\n",
    "\n",
    "plt.figure(figsize=(15,18))\n",
    "dendrogram = sch.dendrogram(sch.linkage(x_pca, method = 'ward'))\n",
    "plt.title('Dendrogram')\n",
    "plt.xlabel('Samples')\n",
    "plt.ylabel('Euclidean distance')\n",
    "#plt.hlines(0.5,0,5000, colors=\"r\", linestyles=\"dashed\")\n",
    "#plt.hlines(0.08,0,5000, colors=\"r\", linestyles=\"dashed\")\n",
    "plt.show()"
   ]
  },
  {
   "cell_type": "markdown",
   "id": "ef04f292",
   "metadata": {},
   "source": [
    "**Again, it is clear that there are 3 categories in the given dataset, as per PCA, using AHC**"
   ]
  },
  {
   "cell_type": "code",
   "execution_count": 14,
   "id": "6505e456",
   "metadata": {},
   "outputs": [
    {
     "data": {
      "text/plain": [
       "1.0    57\n",
       "0.0    44\n",
       "2.0    44\n",
       "Name: Category_HC_3, dtype: int64"
      ]
     },
     "execution_count": 14,
     "metadata": {},
     "output_type": "execute_result"
    }
   ],
   "source": [
    "from sklearn.cluster import AgglomerativeClustering\n",
    "hc = AgglomerativeClustering(n_clusters=3, affinity='euclidean', linkage='ward')\n",
    "y_hc = hc.fit_predict(x_pca)\n",
    "CategHC_3_df=pd.DataFrame(data=y_hc,columns=[\"Category_HC_3\"])\n",
    "Final_HC_3_df=wine_df.join(CategHC_3_df)\n",
    "Final_HC_3_df[\"Category_HC_3\"].value_counts()"
   ]
  },
  {
   "cell_type": "markdown",
   "id": "2d4ccd67",
   "metadata": {},
   "source": [
    "**This time, after creating a model using AHC, based on PCA procedure, we have 3 categories:** ***category 0 with 44 datapoints, category 1 with 57 datapoints and category 2 with 44 datapoints***.**Let us make a crosstab and compare the counts**"
   ]
  },
  {
   "cell_type": "code",
   "execution_count": 15,
   "id": "445abb10",
   "metadata": {},
   "outputs": [
    {
     "data": {
      "text/html": [
       "<div>\n",
       "<style scoped>\n",
       "    .dataframe tbody tr th:only-of-type {\n",
       "        vertical-align: middle;\n",
       "    }\n",
       "\n",
       "    .dataframe tbody tr th {\n",
       "        vertical-align: top;\n",
       "    }\n",
       "\n",
       "    .dataframe thead th {\n",
       "        text-align: right;\n",
       "    }\n",
       "</style>\n",
       "<table border=\"1\" class=\"dataframe\">\n",
       "  <thead>\n",
       "    <tr style=\"text-align: right;\">\n",
       "      <th>Category_HC_3</th>\n",
       "      <th>0.0</th>\n",
       "      <th>1.0</th>\n",
       "      <th>2.0</th>\n",
       "    </tr>\n",
       "    <tr>\n",
       "      <th>Category</th>\n",
       "      <th></th>\n",
       "      <th></th>\n",
       "      <th></th>\n",
       "    </tr>\n",
       "  </thead>\n",
       "  <tbody>\n",
       "    <tr>\n",
       "      <th>0.0</th>\n",
       "      <td>6</td>\n",
       "      <td>2</td>\n",
       "      <td>43</td>\n",
       "    </tr>\n",
       "    <tr>\n",
       "      <th>1.0</th>\n",
       "      <td>38</td>\n",
       "      <td>0</td>\n",
       "      <td>1</td>\n",
       "    </tr>\n",
       "    <tr>\n",
       "      <th>2.0</th>\n",
       "      <td>0</td>\n",
       "      <td>55</td>\n",
       "      <td>0</td>\n",
       "    </tr>\n",
       "  </tbody>\n",
       "</table>\n",
       "</div>"
      ],
      "text/plain": [
       "Category_HC_3  0.0  1.0  2.0\n",
       "Category                    \n",
       "0.0              6    2   43\n",
       "1.0             38    0    1\n",
       "2.0              0   55    0"
      ]
     },
     "execution_count": 15,
     "metadata": {},
     "output_type": "execute_result"
    }
   ],
   "source": [
    "pd.crosstab(KMeansFinal_df['Category'],Final_HC_3_df[\"Category_HC_3\"])"
   ]
  },
  {
   "cell_type": "markdown",
   "id": "76627a69",
   "metadata": {},
   "source": [
    "**There are some similarities in the categories:***\n",
    "\n",
    "***Category 0 of KMeans corresponds to category 2 of AHC***\n",
    "\n",
    "***Category 1 of KMeans corresponds to category 0 of AHC***\n",
    "\n",
    "***Category 2 of KMeans corresponds to category 1 of AHC***\n",
    "\n",
    "**However even among these, there are minor differences(9)in the classification of KMeans and AHC as shown by the 6,2 and 1 on crosstab**\n"
   ]
  },
  {
   "cell_type": "markdown",
   "id": "14d8c266",
   "metadata": {},
   "source": [
    "# Thank You..."
   ]
  },
  {
   "cell_type": "code",
   "execution_count": null,
   "id": "61590098",
   "metadata": {},
   "outputs": [],
   "source": []
  }
 ],
 "metadata": {
  "kernelspec": {
   "display_name": "Python 3",
   "language": "python",
   "name": "python3"
  },
  "language_info": {
   "codemirror_mode": {
    "name": "ipython",
    "version": 3
   },
   "file_extension": ".py",
   "mimetype": "text/x-python",
   "name": "python",
   "nbconvert_exporter": "python",
   "pygments_lexer": "ipython3",
   "version": "3.8.8"
  }
 },
 "nbformat": 4,
 "nbformat_minor": 5
}
