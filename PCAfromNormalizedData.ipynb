{
 "cells": [
  {
   "cell_type": "code",
   "execution_count": 1,
   "id": "5d6cf90f",
   "metadata": {},
   "outputs": [],
   "source": [
    "import pandas as pd\n",
    "import matplotlib.pyplot as plt"
   ]
  },
  {
   "cell_type": "code",
   "execution_count": 2,
   "id": "cae81cf7",
   "metadata": {},
   "outputs": [
    {
     "data": {
      "text/plain": [
       "(178, 13)"
      ]
     },
     "execution_count": 2,
     "metadata": {},
     "output_type": "execute_result"
    }
   ],
   "source": [
    "wine_df = pd.read_csv('Wine.csv')\n",
    "wine_df.shape"
   ]
  },
  {
   "cell_type": "markdown",
   "id": "6afbc695",
   "metadata": {},
   "source": [
    "# Outlier Treatment"
   ]
  },
  {
   "cell_type": "code",
   "execution_count": 3,
   "id": "4bb69def",
   "metadata": {},
   "outputs": [],
   "source": [
    "import numpy as np\n",
    "feature=['Malic_Acid','Ash','Ash_Alcanity','Magnesium','Proanthocyanins','Color_Intensity','Hue']\n",
    "for i in feature:\n",
    "    Q1=np.percentile(wine_df[i], 25, interpolation='midpoint')\n",
    "    Q2=np.percentile(wine_df[i], 50, interpolation='midpoint')\n",
    "    Q3=np.percentile(wine_df[i], 75, interpolation='midpoint')\n",
    "    IQR=Q3-Q1\n",
    "    low_lim=Q1-1.5*IQR\n",
    "    up_lim=Q3+1.5*IQR\n",
    "    filt_for_del=(wine_df[i]>up_lim) | (wine_df[i]<low_lim)\n",
    "    slice_for_del=wine_df.loc[filt_for_del,:]\n",
    "    index_to_del=slice_for_del.index\n",
    "    index_to_del_list = index_to_del.to_list()\n",
    "    wine_df.drop(index_to_del_list, inplace=True)"
   ]
  },
  {
   "cell_type": "code",
   "execution_count": 4,
   "id": "f2f1a76b",
   "metadata": {},
   "outputs": [
    {
     "data": {
      "text/plain": [
       "(161, 13)"
      ]
     },
     "execution_count": 4,
     "metadata": {},
     "output_type": "execute_result"
    }
   ],
   "source": [
    "wine_df.shape"
   ]
  },
  {
   "cell_type": "code",
   "execution_count": 5,
   "id": "deef43b4",
   "metadata": {},
   "outputs": [
    {
     "data": {
      "text/html": [
       "<div>\n",
       "<style scoped>\n",
       "    .dataframe tbody tr th:only-of-type {\n",
       "        vertical-align: middle;\n",
       "    }\n",
       "\n",
       "    .dataframe tbody tr th {\n",
       "        vertical-align: top;\n",
       "    }\n",
       "\n",
       "    .dataframe thead th {\n",
       "        text-align: right;\n",
       "    }\n",
       "</style>\n",
       "<table border=\"1\" class=\"dataframe\">\n",
       "  <thead>\n",
       "    <tr style=\"text-align: right;\">\n",
       "      <th></th>\n",
       "      <th>0</th>\n",
       "      <th>1</th>\n",
       "      <th>2</th>\n",
       "      <th>3</th>\n",
       "      <th>4</th>\n",
       "      <th>5</th>\n",
       "      <th>6</th>\n",
       "      <th>7</th>\n",
       "      <th>8</th>\n",
       "      <th>9</th>\n",
       "      <th>10</th>\n",
       "      <th>11</th>\n",
       "      <th>12</th>\n",
       "    </tr>\n",
       "  </thead>\n",
       "  <tbody>\n",
       "    <tr>\n",
       "      <th>count</th>\n",
       "      <td>161.000000</td>\n",
       "      <td>161.000000</td>\n",
       "      <td>161.000000</td>\n",
       "      <td>161.000000</td>\n",
       "      <td>161.000000</td>\n",
       "      <td>161.000000</td>\n",
       "      <td>161.000000</td>\n",
       "      <td>161.000000</td>\n",
       "      <td>161.000000</td>\n",
       "      <td>161.000000</td>\n",
       "      <td>161.000000</td>\n",
       "      <td>161.000000</td>\n",
       "      <td>161.000000</td>\n",
       "    </tr>\n",
       "    <tr>\n",
       "      <th>mean</th>\n",
       "      <td>0.019901</td>\n",
       "      <td>0.003643</td>\n",
       "      <td>0.003620</td>\n",
       "      <td>0.030667</td>\n",
       "      <td>0.149208</td>\n",
       "      <td>0.003396</td>\n",
       "      <td>0.002937</td>\n",
       "      <td>0.000573</td>\n",
       "      <td>0.002307</td>\n",
       "      <td>0.007234</td>\n",
       "      <td>0.001471</td>\n",
       "      <td>0.003983</td>\n",
       "      <td>0.986361</td>\n",
       "    </tr>\n",
       "    <tr>\n",
       "      <th>std</th>\n",
       "      <td>0.007458</td>\n",
       "      <td>0.002338</td>\n",
       "      <td>0.001403</td>\n",
       "      <td>0.014559</td>\n",
       "      <td>0.054661</td>\n",
       "      <td>0.001545</td>\n",
       "      <td>0.001724</td>\n",
       "      <td>0.000324</td>\n",
       "      <td>0.001201</td>\n",
       "      <td>0.003520</td>\n",
       "      <td>0.000733</td>\n",
       "      <td>0.001999</td>\n",
       "      <td>0.010238</td>\n",
       "    </tr>\n",
       "    <tr>\n",
       "      <th>min</th>\n",
       "      <td>0.008428</td>\n",
       "      <td>0.000944</td>\n",
       "      <td>0.001473</td>\n",
       "      <td>0.009800</td>\n",
       "      <td>0.064147</td>\n",
       "      <td>0.001255</td>\n",
       "      <td>0.000637</td>\n",
       "      <td>0.000145</td>\n",
       "      <td>0.000554</td>\n",
       "      <td>0.002241</td>\n",
       "      <td>0.000579</td>\n",
       "      <td>0.001675</td>\n",
       "      <td>0.951812</td>\n",
       "    </tr>\n",
       "    <tr>\n",
       "      <th>25%</th>\n",
       "      <td>0.013438</td>\n",
       "      <td>0.001687</td>\n",
       "      <td>0.002353</td>\n",
       "      <td>0.017452</td>\n",
       "      <td>0.104447</td>\n",
       "      <td>0.002376</td>\n",
       "      <td>0.001742</td>\n",
       "      <td>0.000276</td>\n",
       "      <td>0.001468</td>\n",
       "      <td>0.004708</td>\n",
       "      <td>0.000969</td>\n",
       "      <td>0.002521</td>\n",
       "      <td>0.982112</td>\n",
       "    </tr>\n",
       "    <tr>\n",
       "      <th>50%</th>\n",
       "      <td>0.018566</td>\n",
       "      <td>0.003196</td>\n",
       "      <td>0.003437</td>\n",
       "      <td>0.029500</td>\n",
       "      <td>0.143578</td>\n",
       "      <td>0.002916</td>\n",
       "      <td>0.002724</td>\n",
       "      <td>0.000511</td>\n",
       "      <td>0.001970</td>\n",
       "      <td>0.005984</td>\n",
       "      <td>0.001192</td>\n",
       "      <td>0.003381</td>\n",
       "      <td>0.988987</td>\n",
       "    </tr>\n",
       "    <tr>\n",
       "      <th>75%</th>\n",
       "      <td>0.024834</td>\n",
       "      <td>0.004940</td>\n",
       "      <td>0.004466</td>\n",
       "      <td>0.039810</td>\n",
       "      <td>0.180956</td>\n",
       "      <td>0.003795</td>\n",
       "      <td>0.003549</td>\n",
       "      <td>0.000834</td>\n",
       "      <td>0.002779</td>\n",
       "      <td>0.008564</td>\n",
       "      <td>0.001827</td>\n",
       "      <td>0.004866</td>\n",
       "      <td>0.994260</td>\n",
       "    </tr>\n",
       "    <tr>\n",
       "      <th>max</th>\n",
       "      <td>0.041106</td>\n",
       "      <td>0.011903</td>\n",
       "      <td>0.007305</td>\n",
       "      <td>0.069703</td>\n",
       "      <td>0.297958</td>\n",
       "      <td>0.008404</td>\n",
       "      <td>0.008671</td>\n",
       "      <td>0.002008</td>\n",
       "      <td>0.007469</td>\n",
       "      <td>0.020690</td>\n",
       "      <td>0.004727</td>\n",
       "      <td>0.010858</td>\n",
       "      <td>0.997835</td>\n",
       "    </tr>\n",
       "  </tbody>\n",
       "</table>\n",
       "</div>"
      ],
      "text/plain": [
       "               0           1           2           3           4           5   \\\n",
       "count  161.000000  161.000000  161.000000  161.000000  161.000000  161.000000   \n",
       "mean     0.019901    0.003643    0.003620    0.030667    0.149208    0.003396   \n",
       "std      0.007458    0.002338    0.001403    0.014559    0.054661    0.001545   \n",
       "min      0.008428    0.000944    0.001473    0.009800    0.064147    0.001255   \n",
       "25%      0.013438    0.001687    0.002353    0.017452    0.104447    0.002376   \n",
       "50%      0.018566    0.003196    0.003437    0.029500    0.143578    0.002916   \n",
       "75%      0.024834    0.004940    0.004466    0.039810    0.180956    0.003795   \n",
       "max      0.041106    0.011903    0.007305    0.069703    0.297958    0.008404   \n",
       "\n",
       "               6           7           8           9           10          11  \\\n",
       "count  161.000000  161.000000  161.000000  161.000000  161.000000  161.000000   \n",
       "mean     0.002937    0.000573    0.002307    0.007234    0.001471    0.003983   \n",
       "std      0.001724    0.000324    0.001201    0.003520    0.000733    0.001999   \n",
       "min      0.000637    0.000145    0.000554    0.002241    0.000579    0.001675   \n",
       "25%      0.001742    0.000276    0.001468    0.004708    0.000969    0.002521   \n",
       "50%      0.002724    0.000511    0.001970    0.005984    0.001192    0.003381   \n",
       "75%      0.003549    0.000834    0.002779    0.008564    0.001827    0.004866   \n",
       "max      0.008671    0.002008    0.007469    0.020690    0.004727    0.010858   \n",
       "\n",
       "               12  \n",
       "count  161.000000  \n",
       "mean     0.986361  \n",
       "std      0.010238  \n",
       "min      0.951812  \n",
       "25%      0.982112  \n",
       "50%      0.988987  \n",
       "75%      0.994260  \n",
       "max      0.997835  "
      ]
     },
     "execution_count": 5,
     "metadata": {},
     "output_type": "execute_result"
    }
   ],
   "source": [
    "from sklearn import preprocessing\n",
    "X=preprocessing.normalize(wine_df)\n",
    "X=pd.DataFrame(X)\n",
    "X.describe()"
   ]
  },
  {
   "cell_type": "markdown",
   "id": "cb0f1cdb",
   "metadata": {},
   "source": [
    "# PCA"
   ]
  },
  {
   "cell_type": "code",
   "execution_count": 15,
   "id": "a79a97b6",
   "metadata": {},
   "outputs": [
    {
     "data": {
      "image/png": "[encoded data removed]",
      "text/plain": [
       "<Figure size 864x432 with 1 Axes>"
      ]
     },
     "metadata": {
      "needs_background": "light"
     },
     "output_type": "display_data"
    }
   ],
   "source": [
    "from sklearn.decomposition import PCA\n",
    "pca = PCA().fit(X)\n",
    "\n",
    "plt.rcParams[\"figure.figsize\"] = (12,6)\n",
    "\n",
    "fig, ax = plt.subplots()\n",
    "xi = np.arange(1,14,step=1)\n",
    "y= np.cumsum(pca.explained_variance_ratio_)\n",
    "\n",
    "\n",
    "plt.ylim = (0.0,1.1)\n",
    "plt.plot(xi, y, marker='o', linestyle='--', color = 'b')\n",
    "plt.xlabel('Number of components')\n",
    "plt.xticks(np.arange(0,14,step=1))\n",
    "#plt.yticks([0.8,1],step=0.5)\n",
    "ax.yaxis.set_ticks(np.linspace(0.8,1,11))  \n",
    "plt.ylabel('Cumulative variance (%)')\n",
    "plt.title('The number of components needed to explain variance')\n",
    "\n",
    "plt.axhline(y=0.95, color='r', linestyle='-')\n",
    "plt.text(0.5, 0.85, '95% cutoff threshold', color = 'red', fontsize = 16)\n",
    "\n",
    "ax.grid(axis='x')\n",
    "plt.show()"
   ]
  },
  {
   "cell_type": "markdown",
   "id": "e564d595",
   "metadata": {},
   "source": [
    "**Surprisingly, we see a 0.98 variance being explained by 1 component. Though strange, we will create a model to find the number of clusters, but we will perform the PCA transformation using 2 components**"
   ]
  },
  {
   "cell_type": "code",
   "execution_count": 16,
   "id": "2339b17a",
   "metadata": {},
   "outputs": [
    {
     "data": {
      "text/plain": [
       "(161, 2)"
      ]
     },
     "execution_count": 16,
     "metadata": {},
     "output_type": "execute_result"
    }
   ],
   "source": [
    "pca = PCA(n_components = 2)\n",
    "pca.fit(X)\n",
    "x_pca = pca.transform(X)\n",
    "x_pca.shape"
   ]
  },
  {
   "cell_type": "markdown",
   "id": "162da5ce",
   "metadata": {},
   "source": [
    "# KMeans"
   ]
  },
  {
   "cell_type": "code",
   "execution_count": 17,
   "id": "425606d9",
   "metadata": {},
   "outputs": [
    {
     "name": "stderr",
     "output_type": "stream",
     "text": [
      "C:\\Users\\Dilip\\anaconda3\\lib\\site-packages\\sklearn\\cluster\\_kmeans.py:881: UserWarning: KMeans is known to have a memory leak on Windows with MKL, when there are less chunks than available threads. You can avoid it by setting the environment variable OMP_NUM_THREADS=1.\n",
      "  warnings.warn(\n"
     ]
    },
    {
     "name": "stdout",
     "output_type": "stream",
     "text": [
      "0.5383337226892307\n",
      "0.18736756031312746\n",
      "0.08711546958955305\n",
      "0.04701869925044197\n",
      "0.02905348903149718\n",
      "0.021659586526918326\n",
      "0.017469930137289327\n",
      "0.01487757369882859\n",
      "0.012685689211091308\n",
      "0.011438839698677003\n"
     ]
    },
    {
     "data": {
      "image/png": "[encoded data removed]",
      "text/plain": [
       "<Figure size 864x432 with 1 Axes>"
      ]
     },
     "metadata": {
      "needs_background": "light"
     },
     "output_type": "display_data"
    }
   ],
   "source": [
    "from sklearn.cluster import KMeans\n",
    "wcss = []\n",
    "for i in range(1,11):\n",
    "    kmeans = KMeans(n_clusters=i, init='k-means++', random_state=42)\n",
    "    kmeans.fit(x_pca)\n",
    "    wcss.append(kmeans.inertia_)\n",
    "    print(kmeans.inertia_)\n",
    "plt.plot(range(1,11),wcss)\n",
    "plt.title('Elbow method to find optimum no. of clusters')\n",
    "plt.xlabel('WCSS')\n",
    "plt.show()"
   ]
  },
  {
   "cell_type": "markdown",
   "id": "317f6ab9",
   "metadata": {},
   "source": [
    "**The number of clusters as shown by the PCA method for normalized data is 3; let us proceed to create the model:**"
   ]
  },
  {
   "cell_type": "code",
   "execution_count": 18,
   "id": "09f00a6e",
   "metadata": {},
   "outputs": [],
   "source": [
    "kmeans=KMeans(n_clusters=3, init='k-means++', random_state=42)\n",
    "y_means=kmeans.fit_predict(x_pca)\n",
    "Categ_df=pd.DataFrame(data=y_means,columns=[\"Category\"])\n",
    "KMeansFinal_df=wine_df.join(Categ_df)"
   ]
  },
  {
   "cell_type": "code",
   "execution_count": 19,
   "id": "59ec408d",
   "metadata": {},
   "outputs": [
    {
     "data": {
      "text/plain": [
       "0.0    62\n",
       "2.0    56\n",
       "1.0    27\n",
       "Name: Category, dtype: int64"
      ]
     },
     "execution_count": 19,
     "metadata": {},
     "output_type": "execute_result"
    }
   ],
   "source": [
    "KMeansFinal_df['Category'].value_counts()"
   ]
  },
  {
   "cell_type": "markdown",
   "id": "3225c320",
   "metadata": {},
   "source": [
    "**Here, we see a different result from that obtained by using Standard Scaling, as far as Counts go.**"
   ]
  },
  {
   "cell_type": "markdown",
   "id": "9cba72ea",
   "metadata": {},
   "source": [
    "# AHC"
   ]
  },
  {
   "cell_type": "code",
   "execution_count": 20,
   "id": "87ef36ee",
   "metadata": {},
   "outputs": [
    {
     "data": {
      "image/png": "[encoded data removed]",
      "text/plain": [
       "<Figure size 1080x1296 with 1 Axes>"
      ]
     },
     "metadata": {
      "needs_background": "light"
     },
     "output_type": "display_data"
    }
   ],
   "source": [
    "import scipy.cluster.hierarchy as sch\n",
    "\n",
    "plt.figure(figsize=(15,18))\n",
    "dendrogram = sch.dendrogram(sch.linkage(x_pca, method = 'ward'))\n",
    "plt.title('Dendrogram')\n",
    "plt.xlabel('Samples')\n",
    "plt.ylabel('Euclidean distance')\n",
    "#plt.hlines(0.5,0,5000, colors=\"r\", linestyles=\"dashed\")\n",
    "#plt.hlines(0.08,0,5000, colors=\"r\", linestyles=\"dashed\")\n",
    "plt.show()"
   ]
  },
  {
   "cell_type": "code",
   "execution_count": 21,
   "id": "d0adb3b3",
   "metadata": {},
   "outputs": [
    {
     "data": {
      "text/plain": [
       "0.0    95\n",
       "1.0    50\n",
       "Name: Category_HC_2, dtype: int64"
      ]
     },
     "execution_count": 21,
     "metadata": {},
     "output_type": "execute_result"
    }
   ],
   "source": [
    "from sklearn.cluster import AgglomerativeClustering\n",
    "hc = AgglomerativeClustering(n_clusters=2, affinity='euclidean', linkage='ward')\n",
    "y_hc = hc.fit_predict(x_pca)\n",
    "CategHC_2_df=pd.DataFrame(data=y_hc,columns=[\"Category_HC_2\"])\n",
    "Final_HC_2_df=wine_df.join(CategHC_2_df)\n",
    "Final_HC_2_df[\"Category_HC_2\"].value_counts()"
   ]
  },
  {
   "cell_type": "code",
   "execution_count": null,
   "id": "cf16181f",
   "metadata": {},
   "outputs": [],
   "source": []
  }
 ],
 "metadata": {
  "kernelspec": {
   "display_name": "Python 3",
   "language": "python",
   "name": "python3"
  },
  "language_info": {
   "codemirror_mode": {
    "name": "ipython",
    "version": 3
   },
   "file_extension": ".py",
   "mimetype": "text/x-python",
   "name": "python",
   "nbconvert_exporter": "python",
   "pygments_lexer": "ipython3",
   "version": "3.8.8"
  }
 },
 "nbformat": 4,
 "nbformat_minor": 5
}
