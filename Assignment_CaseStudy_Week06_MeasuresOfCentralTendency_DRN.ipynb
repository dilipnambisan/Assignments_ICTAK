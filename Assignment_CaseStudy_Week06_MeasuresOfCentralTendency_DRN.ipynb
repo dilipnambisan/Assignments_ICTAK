{
 "cells": [
  {
   "cell_type": "markdown",
   "id": "23156b64",
   "metadata": {},
   "source": [
    "# Case Study 02- Measures of Central Tendency and Dispersion"
   ]
  },
  {
   "cell_type": "code",
   "execution_count": 1,
   "id": "893e3ec3",
   "metadata": {},
   "outputs": [],
   "source": [
    "import pandas as pd"
   ]
  },
  {
   "cell_type": "code",
   "execution_count": 2,
   "id": "ffca3bcd",
   "metadata": {},
   "outputs": [],
   "source": [
    "filename='StudentsPerformance.csv'\n",
    "Stu_df=pd.read_csv(filename)"
   ]
  },
  {
   "cell_type": "code",
   "execution_count": 3,
   "id": "60c8871f",
   "metadata": {},
   "outputs": [
    {
     "name": "stdout",
     "output_type": "stream",
     "text": [
      "<class 'pandas.core.frame.DataFrame'>\n",
      "RangeIndex: 1000 entries, 0 to 999\n",
      "Data columns (total 8 columns):\n",
      " #   Column                       Non-Null Count  Dtype \n",
      "---  ------                       --------------  ----- \n",
      " 0   gender                       1000 non-null   object\n",
      " 1   race/ethnicity               1000 non-null   object\n",
      " 2   parental level of education  1000 non-null   object\n",
      " 3   lunch                        1000 non-null   object\n",
      " 4   test preparation course      1000 non-null   object\n",
      " 5   math score                   1000 non-null   int64 \n",
      " 6   reading score                1000 non-null   int64 \n",
      " 7   writing score                1000 non-null   int64 \n",
      "dtypes: int64(3), object(5)\n",
      "memory usage: 62.6+ KB\n"
     ]
    }
   ],
   "source": [
    "Stu_df.info()"
   ]
  },
  {
   "cell_type": "markdown",
   "id": "931b7bf2",
   "metadata": {},
   "source": [
    "**It can be observed from above that the student data set has no nulls**"
   ]
  },
  {
   "cell_type": "code",
   "execution_count": 6,
   "id": "47aff714",
   "metadata": {},
   "outputs": [
    {
     "data": {
      "text/plain": [
       "female    518\n",
       "male      482\n",
       "Name: gender, dtype: int64"
      ]
     },
     "execution_count": 6,
     "metadata": {},
     "output_type": "execute_result"
    }
   ],
   "source": [
    "Stu_df['gender'].value_counts()"
   ]
  },
  {
   "cell_type": "markdown",
   "id": "6d2e621c",
   "metadata": {},
   "source": [
    "# 1)There are 518 females and 482 males in the study"
   ]
  },
  {
   "cell_type": "code",
   "execution_count": 7,
   "id": "9bb090d0",
   "metadata": {},
   "outputs": [
    {
     "data": {
      "text/plain": [
       "some college          226\n",
       "associate's degree    222\n",
       "high school           196\n",
       "some high school      179\n",
       "bachelor's degree     118\n",
       "master's degree        59\n",
       "Name: parental level of education, dtype: int64"
      ]
     },
     "execution_count": 7,
     "metadata": {},
     "output_type": "execute_result"
    }
   ],
   "source": [
    "Stu_df['parental level of education'].value_counts()"
   ]
  },
  {
   "cell_type": "markdown",
   "id": "7c24ab57",
   "metadata": {},
   "source": [
    "# 2)The parents' level of education has five values, and most parents have a degree of some kind.\n",
    "#     It can be seen that the average value of the parental level of education is \"some college\" since this variable is at ordinal level (so the mode is used)"
   ]
  },
  {
   "cell_type": "markdown",
   "id": "f37c1a02",
   "metadata": {},
   "source": [
    "# 3)Mean Scores"
   ]
  },
  {
   "cell_type": "code",
   "execution_count": 12,
   "id": "d3798ffc",
   "metadata": {},
   "outputs": [
    {
     "data": {
      "text/html": [
       "<div>\n",
       "<style scoped>\n",
       "    .dataframe tbody tr th:only-of-type {\n",
       "        vertical-align: middle;\n",
       "    }\n",
       "\n",
       "    .dataframe tbody tr th {\n",
       "        vertical-align: top;\n",
       "    }\n",
       "\n",
       "    .dataframe thead th {\n",
       "        text-align: right;\n",
       "    }\n",
       "</style>\n",
       "<table border=\"1\" class=\"dataframe\">\n",
       "  <thead>\n",
       "    <tr style=\"text-align: right;\">\n",
       "      <th></th>\n",
       "      <th>math score</th>\n",
       "    </tr>\n",
       "    <tr>\n",
       "      <th>gender</th>\n",
       "      <th></th>\n",
       "    </tr>\n",
       "  </thead>\n",
       "  <tbody>\n",
       "    <tr>\n",
       "      <th>female</th>\n",
       "      <td>63.376448</td>\n",
       "    </tr>\n",
       "    <tr>\n",
       "      <th>male</th>\n",
       "      <td>68.821577</td>\n",
       "    </tr>\n",
       "  </tbody>\n",
       "</table>\n",
       "</div>"
      ],
      "text/plain": [
       "        math score\n",
       "gender            \n",
       "female   63.376448\n",
       "male     68.821577"
      ]
     },
     "execution_count": 12,
     "metadata": {},
     "output_type": "execute_result"
    }
   ],
   "source": [
    "Stu_df.groupby(Stu_df['gender'])[\"math score\"].mean().to_frame()"
   ]
  },
  {
   "cell_type": "markdown",
   "id": "e7c03053",
   "metadata": {},
   "source": [
    "\n",
    "# Maths: \n",
    "**a)From the above, it can be seen that the mean value of math score is higher for males than females**"
   ]
  },
  {
   "cell_type": "code",
   "execution_count": 10,
   "id": "2cb1f476",
   "metadata": {},
   "outputs": [
    {
     "data": {
      "text/plain": [
       "none         642\n",
       "completed    358\n",
       "Name: test preparation course, dtype: int64"
      ]
     },
     "execution_count": 10,
     "metadata": {},
     "output_type": "execute_result"
    }
   ],
   "source": [
    "Stu_df['test preparation course'].value_counts()"
   ]
  },
  {
   "cell_type": "code",
   "execution_count": 11,
   "id": "e764d1f3",
   "metadata": {},
   "outputs": [
    {
     "data": {
      "text/html": [
       "<div>\n",
       "<style scoped>\n",
       "    .dataframe tbody tr th:only-of-type {\n",
       "        vertical-align: middle;\n",
       "    }\n",
       "\n",
       "    .dataframe tbody tr th {\n",
       "        vertical-align: top;\n",
       "    }\n",
       "\n",
       "    .dataframe thead th {\n",
       "        text-align: right;\n",
       "    }\n",
       "</style>\n",
       "<table border=\"1\" class=\"dataframe\">\n",
       "  <thead>\n",
       "    <tr style=\"text-align: right;\">\n",
       "      <th></th>\n",
       "      <th>math score</th>\n",
       "    </tr>\n",
       "    <tr>\n",
       "      <th>test preparation course</th>\n",
       "      <th></th>\n",
       "    </tr>\n",
       "  </thead>\n",
       "  <tbody>\n",
       "    <tr>\n",
       "      <th>completed</th>\n",
       "      <td>69.96648</td>\n",
       "    </tr>\n",
       "    <tr>\n",
       "      <th>none</th>\n",
       "      <td>63.78972</td>\n",
       "    </tr>\n",
       "  </tbody>\n",
       "</table>\n",
       "</div>"
      ],
      "text/plain": [
       "                         math score\n",
       "test preparation course            \n",
       "completed                  69.96648\n",
       "none                       63.78972"
      ]
     },
     "execution_count": 11,
     "metadata": {},
     "output_type": "execute_result"
    }
   ],
   "source": [
    "Stu_df.groupby(Stu_df['test preparation course'])[\"math score\"].mean().to_frame()"
   ]
  },
  {
   "cell_type": "markdown",
   "id": "7d961f20",
   "metadata": {},
   "source": [
    "**b)From the above, it is seen that 642 students did not attend a preparation while the remaining 358 students attended a preparation session. The math score mean for the group that did the course was 69.97 while it was 63.79 for the group that didn't complete it**"
   ]
  },
  {
   "cell_type": "code",
   "execution_count": 13,
   "id": "bfd6dca5",
   "metadata": {},
   "outputs": [
    {
     "data": {
      "text/html": [
       "<div>\n",
       "<style scoped>\n",
       "    .dataframe tbody tr th:only-of-type {\n",
       "        vertical-align: middle;\n",
       "    }\n",
       "\n",
       "    .dataframe tbody tr th {\n",
       "        vertical-align: top;\n",
       "    }\n",
       "\n",
       "    .dataframe thead th {\n",
       "        text-align: right;\n",
       "    }\n",
       "</style>\n",
       "<table border=\"1\" class=\"dataframe\">\n",
       "  <thead>\n",
       "    <tr style=\"text-align: right;\">\n",
       "      <th></th>\n",
       "      <th>reading score</th>\n",
       "    </tr>\n",
       "    <tr>\n",
       "      <th>gender</th>\n",
       "      <th></th>\n",
       "    </tr>\n",
       "  </thead>\n",
       "  <tbody>\n",
       "    <tr>\n",
       "      <th>female</th>\n",
       "      <td>72.590734</td>\n",
       "    </tr>\n",
       "    <tr>\n",
       "      <th>male</th>\n",
       "      <td>65.545643</td>\n",
       "    </tr>\n",
       "  </tbody>\n",
       "</table>\n",
       "</div>"
      ],
      "text/plain": [
       "        reading score\n",
       "gender               \n",
       "female      72.590734\n",
       "male        65.545643"
      ]
     },
     "execution_count": 13,
     "metadata": {},
     "output_type": "execute_result"
    }
   ],
   "source": [
    "Stu_df.groupby(Stu_df['gender'])[\"reading score\"].mean().to_frame()"
   ]
  },
  {
   "cell_type": "markdown",
   "id": "451ea82e",
   "metadata": {},
   "source": [
    "# Reading score:\n",
    "**From above, it is seen that the mean score for reading is higher for females compared to males**"
   ]
  },
  {
   "cell_type": "code",
   "execution_count": 14,
   "id": "3c9abce4",
   "metadata": {},
   "outputs": [
    {
     "data": {
      "text/html": [
       "<div>\n",
       "<style scoped>\n",
       "    .dataframe tbody tr th:only-of-type {\n",
       "        vertical-align: middle;\n",
       "    }\n",
       "\n",
       "    .dataframe tbody tr th {\n",
       "        vertical-align: top;\n",
       "    }\n",
       "\n",
       "    .dataframe thead th {\n",
       "        text-align: right;\n",
       "    }\n",
       "</style>\n",
       "<table border=\"1\" class=\"dataframe\">\n",
       "  <thead>\n",
       "    <tr style=\"text-align: right;\">\n",
       "      <th></th>\n",
       "      <th>reading score</th>\n",
       "    </tr>\n",
       "    <tr>\n",
       "      <th>test preparation course</th>\n",
       "      <th></th>\n",
       "    </tr>\n",
       "  </thead>\n",
       "  <tbody>\n",
       "    <tr>\n",
       "      <th>completed</th>\n",
       "      <td>74.175978</td>\n",
       "    </tr>\n",
       "    <tr>\n",
       "      <th>none</th>\n",
       "      <td>66.417445</td>\n",
       "    </tr>\n",
       "  </tbody>\n",
       "</table>\n",
       "</div>"
      ],
      "text/plain": [
       "                         reading score\n",
       "test preparation course               \n",
       "completed                    74.175978\n",
       "none                         66.417445"
      ]
     },
     "execution_count": 14,
     "metadata": {},
     "output_type": "execute_result"
    }
   ],
   "source": [
    "Stu_df.groupby(Stu_df['test preparation course'])[\"reading score\"].mean().to_frame()"
   ]
  },
  {
   "cell_type": "markdown",
   "id": "d6ddbe24",
   "metadata": {},
   "source": [
    "**b)From above, it is observed that mean reading score is higher for those who did the preparation than for those who did not**"
   ]
  },
  {
   "cell_type": "code",
   "execution_count": 15,
   "id": "602b56a2",
   "metadata": {},
   "outputs": [
    {
     "data": {
      "text/html": [
       "<div>\n",
       "<style scoped>\n",
       "    .dataframe tbody tr th:only-of-type {\n",
       "        vertical-align: middle;\n",
       "    }\n",
       "\n",
       "    .dataframe tbody tr th {\n",
       "        vertical-align: top;\n",
       "    }\n",
       "\n",
       "    .dataframe thead th {\n",
       "        text-align: right;\n",
       "    }\n",
       "</style>\n",
       "<table border=\"1\" class=\"dataframe\">\n",
       "  <thead>\n",
       "    <tr style=\"text-align: right;\">\n",
       "      <th></th>\n",
       "      <th>writing score</th>\n",
       "    </tr>\n",
       "    <tr>\n",
       "      <th>gender</th>\n",
       "      <th></th>\n",
       "    </tr>\n",
       "  </thead>\n",
       "  <tbody>\n",
       "    <tr>\n",
       "      <th>female</th>\n",
       "      <td>72.467181</td>\n",
       "    </tr>\n",
       "    <tr>\n",
       "      <th>male</th>\n",
       "      <td>63.446058</td>\n",
       "    </tr>\n",
       "  </tbody>\n",
       "</table>\n",
       "</div>"
      ],
      "text/plain": [
       "        writing score\n",
       "gender               \n",
       "female      72.467181\n",
       "male        63.446058"
      ]
     },
     "execution_count": 15,
     "metadata": {},
     "output_type": "execute_result"
    }
   ],
   "source": [
    "Stu_df.groupby(Stu_df['gender'])[\"writing score\"].mean().to_frame()"
   ]
  },
  {
   "cell_type": "markdown",
   "id": "83593567",
   "metadata": {},
   "source": [
    "# Writing score:\n",
    "**a)From above it is observed that writing score is higher for females than for males**"
   ]
  },
  {
   "cell_type": "code",
   "execution_count": 16,
   "id": "57988682",
   "metadata": {},
   "outputs": [
    {
     "data": {
      "text/html": [
       "<div>\n",
       "<style scoped>\n",
       "    .dataframe tbody tr th:only-of-type {\n",
       "        vertical-align: middle;\n",
       "    }\n",
       "\n",
       "    .dataframe tbody tr th {\n",
       "        vertical-align: top;\n",
       "    }\n",
       "\n",
       "    .dataframe thead th {\n",
       "        text-align: right;\n",
       "    }\n",
       "</style>\n",
       "<table border=\"1\" class=\"dataframe\">\n",
       "  <thead>\n",
       "    <tr style=\"text-align: right;\">\n",
       "      <th></th>\n",
       "      <th>writing score</th>\n",
       "    </tr>\n",
       "    <tr>\n",
       "      <th>test preparation course</th>\n",
       "      <th></th>\n",
       "    </tr>\n",
       "  </thead>\n",
       "  <tbody>\n",
       "    <tr>\n",
       "      <th>completed</th>\n",
       "      <td>74.684358</td>\n",
       "    </tr>\n",
       "    <tr>\n",
       "      <th>none</th>\n",
       "      <td>64.457944</td>\n",
       "    </tr>\n",
       "  </tbody>\n",
       "</table>\n",
       "</div>"
      ],
      "text/plain": [
       "                         writing score\n",
       "test preparation course               \n",
       "completed                    74.684358\n",
       "none                         64.457944"
      ]
     },
     "execution_count": 16,
     "metadata": {},
     "output_type": "execute_result"
    }
   ],
   "source": [
    "Stu_df.groupby(Stu_df['test preparation course'])[\"writing score\"].mean().to_frame()"
   ]
  },
  {
   "cell_type": "markdown",
   "id": "133112cd",
   "metadata": {},
   "source": [
    "**b) From above it is seen that writing score is significantly higher for those who completed the preparation than for those who did not**"
   ]
  },
  {
   "cell_type": "markdown",
   "id": "9f478c06",
   "metadata": {},
   "source": [
    "# 4)Variance by Category"
   ]
  },
  {
   "cell_type": "code",
   "execution_count": 17,
   "id": "53e20a34",
   "metadata": {},
   "outputs": [
    {
     "data": {
      "text/plain": [
       "math score       242.411410\n",
       "reading score    216.279254\n",
       "writing score    231.842682\n",
       "dtype: float64"
      ]
     },
     "execution_count": 17,
     "metadata": {},
     "output_type": "execute_result"
    }
   ],
   "source": [
    "Stu_df.var()"
   ]
  },
  {
   "cell_type": "markdown",
   "id": "eff03bc3",
   "metadata": {},
   "source": [
    "# The values of variance overall for the dataset is as shown above"
   ]
  },
  {
   "cell_type": "code",
   "execution_count": 18,
   "id": "5aa6d742",
   "metadata": {},
   "outputs": [],
   "source": [
    "male_filt=Stu_df['gender']=='male'\n",
    "female_filt=Stu_df['gender']=='female'\n",
    "prep_yes_filt=Stu_df['test preparation course']=='completed'\n",
    "prep_no_filt=Stu_df['test preparation course']=='none'"
   ]
  },
  {
   "cell_type": "markdown",
   "id": "67169613",
   "metadata": {},
   "source": [
    "\n",
    "**a)**\n",
    "\n",
    "**Males , math score**"
   ]
  },
  {
   "cell_type": "code",
   "execution_count": 19,
   "id": "6ead54a9",
   "metadata": {
    "scrolled": true
   },
   "outputs": [
    {
     "data": {
      "text/plain": [
       "211.88909688494755"
      ]
     },
     "execution_count": 19,
     "metadata": {},
     "output_type": "execute_result"
    }
   ],
   "source": [
    "Stu_df.loc[male_filt, 'math score'].var()"
   ]
  },
  {
   "cell_type": "markdown",
   "id": "6fb9c880",
   "metadata": {},
   "source": [
    "**Males, all subjects variance**"
   ]
  },
  {
   "cell_type": "code",
   "execution_count": 23,
   "id": "71f8c058",
   "metadata": {},
   "outputs": [
    {
     "data": {
      "text/plain": [
       "math score       211.889097\n",
       "reading score    200.211010\n",
       "writing score    202.413924\n",
       "dtype: float64"
      ]
     },
     "execution_count": 23,
     "metadata": {},
     "output_type": "execute_result"
    }
   ],
   "source": [
    "Stu_df.loc[male_filt, : ].var()"
   ]
  },
  {
   "cell_type": "markdown",
   "id": "2651ec85",
   "metadata": {},
   "source": [
    "**Average math score of males who did the prep**"
   ]
  },
  {
   "cell_type": "code",
   "execution_count": 21,
   "id": "6e7a51b3",
   "metadata": {},
   "outputs": [
    {
     "data": {
      "text/plain": [
       "72.98850574712644"
      ]
     },
     "execution_count": 21,
     "metadata": {},
     "output_type": "execute_result"
    }
   ],
   "source": [
    "Stu_df.loc[male_filt&prep_yes_filt,'math score'].mean()"
   ]
  },
  {
   "cell_type": "markdown",
   "id": "c86c674c",
   "metadata": {},
   "source": [
    "**b)**\n",
    "\n",
    "**Females, math score**"
   ]
  },
  {
   "cell_type": "code",
   "execution_count": 20,
   "id": "66897dae",
   "metadata": {},
   "outputs": [
    {
     "data": {
      "text/plain": [
       "256.9585931607201"
      ]
     },
     "execution_count": 20,
     "metadata": {},
     "output_type": "execute_result"
    }
   ],
   "source": [
    "Stu_df.loc[female_filt, 'math score'].var()"
   ]
  },
  {
   "cell_type": "markdown",
   "id": "92c86a1b",
   "metadata": {},
   "source": [
    "**Females, all subjects variance**"
   ]
  },
  {
   "cell_type": "code",
   "execution_count": 24,
   "id": "d5dd5d0a",
   "metadata": {},
   "outputs": [
    {
     "data": {
      "text/plain": [
       "math score       256.958593\n",
       "reading score    207.677438\n",
       "writing score    220.369327\n",
       "dtype: float64"
      ]
     },
     "execution_count": 24,
     "metadata": {},
     "output_type": "execute_result"
    }
   ],
   "source": [
    "Stu_df.loc[female_filt, : ].var()"
   ]
  },
  {
   "cell_type": "markdown",
   "id": "7092063e",
   "metadata": {},
   "source": [
    "**Average math score of Females who did the prep course**"
   ]
  },
  {
   "cell_type": "code",
   "execution_count": 22,
   "id": "991022a3",
   "metadata": {},
   "outputs": [
    {
     "data": {
      "text/plain": [
       "67.1086956521739"
      ]
     },
     "execution_count": 22,
     "metadata": {},
     "output_type": "execute_result"
    }
   ],
   "source": [
    "Stu_df.loc[female_filt&prep_yes_filt,'math score'].mean()"
   ]
  },
  {
   "cell_type": "markdown",
   "id": "7714f7ef",
   "metadata": {},
   "source": [
    "**c)**\n",
    "\n",
    "**Variation based on test prep**"
   ]
  },
  {
   "cell_type": "code",
   "execution_count": 25,
   "id": "4d6a2bbb",
   "metadata": {},
   "outputs": [
    {
     "data": {
      "text/plain": [
       "math score       210.884027\n",
       "reading score    183.265864\n",
       "writing score    175.202612\n",
       "dtype: float64"
      ]
     },
     "execution_count": 25,
     "metadata": {},
     "output_type": "execute_result"
    }
   ],
   "source": [
    "Stu_df.loc[prep_yes_filt,:].var()"
   ]
  },
  {
   "cell_type": "code",
   "execution_count": 26,
   "id": "dbb95339",
   "metadata": {},
   "outputs": [
    {
     "data": {
      "text/plain": [
       "math score       246.668662\n",
       "reading score    213.419851\n",
       "writing score    226.251739\n",
       "dtype: float64"
      ]
     },
     "execution_count": 26,
     "metadata": {},
     "output_type": "execute_result"
    }
   ],
   "source": [
    "Stu_df.loc[prep_no_filt,:].var()"
   ]
  },
  {
   "cell_type": "markdown",
   "id": "25579b00",
   "metadata": {},
   "source": [
    "**From the above, it can be seen that the variation is less among the students who attended the preparation course than for those who did not attend the prep, for every subject**\n",
    "\n",
    "\n",
    "# Variation in a single data frame"
   ]
  },
  {
   "cell_type": "code",
   "execution_count": 27,
   "id": "8ecf167e",
   "metadata": {},
   "outputs": [
    {
     "name": "stderr",
     "output_type": "stream",
     "text": [
      "<ipython-input-27-ca9bb6a36e6a>:1: FutureWarning: Indexing with multiple keys (implicitly converted to a tuple of keys) will be deprecated, use a list instead.\n",
      "  Stu_df.groupby(['gender','test preparation course'])['math score','reading score','writing score'].var()\n"
     ]
    },
    {
     "data": {
      "text/html": [
       "<div>\n",
       "<style scoped>\n",
       "    .dataframe tbody tr th:only-of-type {\n",
       "        vertical-align: middle;\n",
       "    }\n",
       "\n",
       "    .dataframe tbody tr th {\n",
       "        vertical-align: top;\n",
       "    }\n",
       "\n",
       "    .dataframe thead th {\n",
       "        text-align: right;\n",
       "    }\n",
       "</style>\n",
       "<table border=\"1\" class=\"dataframe\">\n",
       "  <thead>\n",
       "    <tr style=\"text-align: right;\">\n",
       "      <th></th>\n",
       "      <th></th>\n",
       "      <th>math score</th>\n",
       "      <th>reading score</th>\n",
       "      <th>writing score</th>\n",
       "    </tr>\n",
       "    <tr>\n",
       "      <th>gender</th>\n",
       "      <th>test preparation course</th>\n",
       "      <th></th>\n",
       "      <th></th>\n",
       "      <th></th>\n",
       "    </tr>\n",
       "  </thead>\n",
       "  <tbody>\n",
       "    <tr>\n",
       "      <th rowspan=\"2\" valign=\"top\">female</th>\n",
       "      <th>completed</th>\n",
       "      <td>208.173913</td>\n",
       "      <td>161.175546</td>\n",
       "      <td>149.836897</td>\n",
       "    </tr>\n",
       "    <tr>\n",
       "      <th>none</th>\n",
       "      <td>272.602767</td>\n",
       "      <td>214.241220</td>\n",
       "      <td>225.495172</td>\n",
       "    </tr>\n",
       "    <tr>\n",
       "      <th rowspan=\"2\" valign=\"top\">male</th>\n",
       "      <th>completed</th>\n",
       "      <td>197.098133</td>\n",
       "      <td>185.297987</td>\n",
       "      <td>166.098233</td>\n",
       "    </tr>\n",
       "    <tr>\n",
       "      <th>none</th>\n",
       "      <td>205.513600</td>\n",
       "      <td>184.843553</td>\n",
       "      <td>181.394687</td>\n",
       "    </tr>\n",
       "  </tbody>\n",
       "</table>\n",
       "</div>"
      ],
      "text/plain": [
       "                                math score  reading score  writing score\n",
       "gender test preparation course                                          \n",
       "female completed                208.173913     161.175546     149.836897\n",
       "       none                     272.602767     214.241220     225.495172\n",
       "male   completed                197.098133     185.297987     166.098233\n",
       "       none                     205.513600     184.843553     181.394687"
      ]
     },
     "execution_count": 27,
     "metadata": {},
     "output_type": "execute_result"
    }
   ],
   "source": [
    "Stu_df.groupby(['gender','test preparation course'])['math score','reading score','writing score'].var()"
   ]
  },
  {
   "cell_type": "markdown",
   "id": "79240d2b",
   "metadata": {},
   "source": [
    "# 5)List of students who secured the top 25 percentile on math score"
   ]
  },
  {
   "cell_type": "code",
   "execution_count": 28,
   "id": "a91f4b75",
   "metadata": {},
   "outputs": [
    {
     "data": {
      "text/plain": [
       "77.0"
      ]
     },
     "execution_count": 28,
     "metadata": {},
     "output_type": "execute_result"
    }
   ],
   "source": [
    "Stu_df['math score'].quantile(0.75)"
   ]
  },
  {
   "cell_type": "code",
   "execution_count": 47,
   "id": "b035d15d",
   "metadata": {},
   "outputs": [],
   "source": [
    "Math_Top_Qrt_fil = Stu_df['math score']>=77.0\n",
    "\n",
    "#Filtering the students who scored more than or equal to 77.0 percent"
   ]
  },
  {
   "cell_type": "code",
   "execution_count": 36,
   "id": "54d67a2d",
   "metadata": {},
   "outputs": [
    {
     "data": {
      "text/plain": [
       "gender                         255\n",
       "race/ethnicity                 255\n",
       "parental level of education    255\n",
       "lunch                          255\n",
       "test preparation course        255\n",
       "math score                     255\n",
       "reading score                  255\n",
       "writing score                  255\n",
       "dtype: int64"
      ]
     },
     "execution_count": 36,
     "metadata": {},
     "output_type": "execute_result"
    }
   ],
   "source": [
    "Stu_df.loc[Math_Top_Qrt_fil, :].count()"
   ]
  },
  {
   "cell_type": "markdown",
   "id": "ca764e03",
   "metadata": {},
   "source": [
    "# It can be seen that the number of students eligible for scholarship is 255"
   ]
  },
  {
   "cell_type": "code",
   "execution_count": 38,
   "id": "2cf5d0ec",
   "metadata": {},
   "outputs": [],
   "source": [
    "Scholarship_df = Stu_df.loc[Math_Top_Qrt_fil, :]"
   ]
  },
  {
   "cell_type": "code",
   "execution_count": 41,
   "id": "393fd3d1",
   "metadata": {},
   "outputs": [],
   "source": [
    "Scholarship_df.reset_index(inplace=True)"
   ]
  },
  {
   "cell_type": "code",
   "execution_count": 46,
   "id": "2136f370",
   "metadata": {},
   "outputs": [
    {
     "data": {
      "text/html": [
       "<div>\n",
       "<style scoped>\n",
       "    .dataframe tbody tr th:only-of-type {\n",
       "        vertical-align: middle;\n",
       "    }\n",
       "\n",
       "    .dataframe tbody tr th {\n",
       "        vertical-align: top;\n",
       "    }\n",
       "\n",
       "    .dataframe thead th {\n",
       "        text-align: right;\n",
       "    }\n",
       "</style>\n",
       "<table border=\"1\" class=\"dataframe\">\n",
       "  <thead>\n",
       "    <tr style=\"text-align: right;\">\n",
       "      <th></th>\n",
       "      <th>index</th>\n",
       "      <th>gender</th>\n",
       "      <th>race/ethnicity</th>\n",
       "      <th>parental level of education</th>\n",
       "      <th>lunch</th>\n",
       "      <th>test preparation course</th>\n",
       "      <th>math score</th>\n",
       "      <th>reading score</th>\n",
       "      <th>writing score</th>\n",
       "    </tr>\n",
       "  </thead>\n",
       "  <tbody>\n",
       "    <tr>\n",
       "      <th>0</th>\n",
       "      <td>414</td>\n",
       "      <td>female</td>\n",
       "      <td>group A</td>\n",
       "      <td>high school</td>\n",
       "      <td>free/reduced</td>\n",
       "      <td>completed</td>\n",
       "      <td>77</td>\n",
       "      <td>88</td>\n",
       "      <td>85</td>\n",
       "    </tr>\n",
       "    <tr>\n",
       "      <th>14</th>\n",
       "      <td>428</td>\n",
       "      <td>female</td>\n",
       "      <td>group D</td>\n",
       "      <td>some college</td>\n",
       "      <td>free/reduced</td>\n",
       "      <td>none</td>\n",
       "      <td>77</td>\n",
       "      <td>86</td>\n",
       "      <td>86</td>\n",
       "    </tr>\n",
       "    <tr>\n",
       "      <th>28</th>\n",
       "      <td>442</td>\n",
       "      <td>female</td>\n",
       "      <td>group E</td>\n",
       "      <td>associate's degree</td>\n",
       "      <td>standard</td>\n",
       "      <td>completed</td>\n",
       "      <td>79</td>\n",
       "      <td>88</td>\n",
       "      <td>94</td>\n",
       "    </tr>\n",
       "    <tr>\n",
       "      <th>42</th>\n",
       "      <td>456</td>\n",
       "      <td>female</td>\n",
       "      <td>group E</td>\n",
       "      <td>master's degree</td>\n",
       "      <td>standard</td>\n",
       "      <td>none</td>\n",
       "      <td>81</td>\n",
       "      <td>92</td>\n",
       "      <td>91</td>\n",
       "    </tr>\n",
       "    <tr>\n",
       "      <th>56</th>\n",
       "      <td>470</td>\n",
       "      <td>female</td>\n",
       "      <td>group E</td>\n",
       "      <td>associate's degree</td>\n",
       "      <td>free/reduced</td>\n",
       "      <td>completed</td>\n",
       "      <td>83</td>\n",
       "      <td>86</td>\n",
       "      <td>88</td>\n",
       "    </tr>\n",
       "    <tr>\n",
       "      <th>70</th>\n",
       "      <td>484</td>\n",
       "      <td>female</td>\n",
       "      <td>group C</td>\n",
       "      <td>some college</td>\n",
       "      <td>standard</td>\n",
       "      <td>completed</td>\n",
       "      <td>87</td>\n",
       "      <td>89</td>\n",
       "      <td>94</td>\n",
       "    </tr>\n",
       "    <tr>\n",
       "      <th>84</th>\n",
       "      <td>498</td>\n",
       "      <td>female</td>\n",
       "      <td>group C</td>\n",
       "      <td>associate's degree</td>\n",
       "      <td>standard</td>\n",
       "      <td>none</td>\n",
       "      <td>91</td>\n",
       "      <td>95</td>\n",
       "      <td>94</td>\n",
       "    </tr>\n",
       "    <tr>\n",
       "      <th>98</th>\n",
       "      <td>512</td>\n",
       "      <td>female</td>\n",
       "      <td>group D</td>\n",
       "      <td>some college</td>\n",
       "      <td>standard</td>\n",
       "      <td>none</td>\n",
       "      <td>98</td>\n",
       "      <td>100</td>\n",
       "      <td>99</td>\n",
       "    </tr>\n",
       "    <tr>\n",
       "      <th>112</th>\n",
       "      <td>857</td>\n",
       "      <td>male</td>\n",
       "      <td>group A</td>\n",
       "      <td>some college</td>\n",
       "      <td>standard</td>\n",
       "      <td>completed</td>\n",
       "      <td>78</td>\n",
       "      <td>72</td>\n",
       "      <td>70</td>\n",
       "    </tr>\n",
       "    <tr>\n",
       "      <th>126</th>\n",
       "      <td>871</td>\n",
       "      <td>male</td>\n",
       "      <td>group C</td>\n",
       "      <td>some college</td>\n",
       "      <td>standard</td>\n",
       "      <td>completed</td>\n",
       "      <td>79</td>\n",
       "      <td>79</td>\n",
       "      <td>78</td>\n",
       "    </tr>\n",
       "    <tr>\n",
       "      <th>140</th>\n",
       "      <td>885</td>\n",
       "      <td>male</td>\n",
       "      <td>group D</td>\n",
       "      <td>master's degree</td>\n",
       "      <td>standard</td>\n",
       "      <td>none</td>\n",
       "      <td>80</td>\n",
       "      <td>80</td>\n",
       "      <td>72</td>\n",
       "    </tr>\n",
       "    <tr>\n",
       "      <th>154</th>\n",
       "      <td>899</td>\n",
       "      <td>male</td>\n",
       "      <td>group D</td>\n",
       "      <td>some college</td>\n",
       "      <td>standard</td>\n",
       "      <td>none</td>\n",
       "      <td>81</td>\n",
       "      <td>82</td>\n",
       "      <td>84</td>\n",
       "    </tr>\n",
       "    <tr>\n",
       "      <th>168</th>\n",
       "      <td>913</td>\n",
       "      <td>male</td>\n",
       "      <td>group E</td>\n",
       "      <td>some high school</td>\n",
       "      <td>standard</td>\n",
       "      <td>none</td>\n",
       "      <td>82</td>\n",
       "      <td>67</td>\n",
       "      <td>61</td>\n",
       "    </tr>\n",
       "    <tr>\n",
       "      <th>182</th>\n",
       "      <td>927</td>\n",
       "      <td>male</td>\n",
       "      <td>group B</td>\n",
       "      <td>some high school</td>\n",
       "      <td>standard</td>\n",
       "      <td>completed</td>\n",
       "      <td>85</td>\n",
       "      <td>84</td>\n",
       "      <td>78</td>\n",
       "    </tr>\n",
       "    <tr>\n",
       "      <th>196</th>\n",
       "      <td>941</td>\n",
       "      <td>male</td>\n",
       "      <td>group B</td>\n",
       "      <td>bachelor's degree</td>\n",
       "      <td>free/reduced</td>\n",
       "      <td>completed</td>\n",
       "      <td>87</td>\n",
       "      <td>90</td>\n",
       "      <td>88</td>\n",
       "    </tr>\n",
       "    <tr>\n",
       "      <th>210</th>\n",
       "      <td>955</td>\n",
       "      <td>male</td>\n",
       "      <td>group D</td>\n",
       "      <td>some college</td>\n",
       "      <td>standard</td>\n",
       "      <td>none</td>\n",
       "      <td>88</td>\n",
       "      <td>73</td>\n",
       "      <td>78</td>\n",
       "    </tr>\n",
       "    <tr>\n",
       "      <th>224</th>\n",
       "      <td>969</td>\n",
       "      <td>male</td>\n",
       "      <td>group E</td>\n",
       "      <td>master's degree</td>\n",
       "      <td>standard</td>\n",
       "      <td>none</td>\n",
       "      <td>90</td>\n",
       "      <td>85</td>\n",
       "      <td>84</td>\n",
       "    </tr>\n",
       "    <tr>\n",
       "      <th>238</th>\n",
       "      <td>983</td>\n",
       "      <td>male</td>\n",
       "      <td>group C</td>\n",
       "      <td>bachelor's degree</td>\n",
       "      <td>standard</td>\n",
       "      <td>completed</td>\n",
       "      <td>94</td>\n",
       "      <td>90</td>\n",
       "      <td>91</td>\n",
       "    </tr>\n",
       "    <tr>\n",
       "      <th>252</th>\n",
       "      <td>997</td>\n",
       "      <td>male</td>\n",
       "      <td>group D</td>\n",
       "      <td>some college</td>\n",
       "      <td>standard</td>\n",
       "      <td>completed</td>\n",
       "      <td>100</td>\n",
       "      <td>97</td>\n",
       "      <td>99</td>\n",
       "    </tr>\n",
       "  </tbody>\n",
       "</table>\n",
       "</div>"
      ],
      "text/plain": [
       "     index  gender race/ethnicity parental level of education         lunch  \\\n",
       "0      414  female        group A                 high school  free/reduced   \n",
       "14     428  female        group D                some college  free/reduced   \n",
       "28     442  female        group E          associate's degree      standard   \n",
       "42     456  female        group E             master's degree      standard   \n",
       "56     470  female        group E          associate's degree  free/reduced   \n",
       "70     484  female        group C                some college      standard   \n",
       "84     498  female        group C          associate's degree      standard   \n",
       "98     512  female        group D                some college      standard   \n",
       "112    857    male        group A                some college      standard   \n",
       "126    871    male        group C                some college      standard   \n",
       "140    885    male        group D             master's degree      standard   \n",
       "154    899    male        group D                some college      standard   \n",
       "168    913    male        group E            some high school      standard   \n",
       "182    927    male        group B            some high school      standard   \n",
       "196    941    male        group B           bachelor's degree  free/reduced   \n",
       "210    955    male        group D                some college      standard   \n",
       "224    969    male        group E             master's degree      standard   \n",
       "238    983    male        group C           bachelor's degree      standard   \n",
       "252    997    male        group D                some college      standard   \n",
       "\n",
       "    test preparation course  math score  reading score  writing score  \n",
       "0                 completed          77             88             85  \n",
       "14                     none          77             86             86  \n",
       "28                completed          79             88             94  \n",
       "42                     none          81             92             91  \n",
       "56                completed          83             86             88  \n",
       "70                completed          87             89             94  \n",
       "84                     none          91             95             94  \n",
       "98                     none          98            100             99  \n",
       "112               completed          78             72             70  \n",
       "126               completed          79             79             78  \n",
       "140                    none          80             80             72  \n",
       "154                    none          81             82             84  \n",
       "168                    none          82             67             61  \n",
       "182               completed          85             84             78  \n",
       "196               completed          87             90             88  \n",
       "210                    none          88             73             78  \n",
       "224                    none          90             85             84  \n",
       "238               completed          94             90             91  \n",
       "252               completed         100             97             99  "
      ]
     },
     "execution_count": 46,
     "metadata": {},
     "output_type": "execute_result"
    }
   ],
   "source": [
    "Scholarship_df.loc[0:254:14]"
   ]
  },
  {
   "cell_type": "markdown",
   "id": "99560682",
   "metadata": {},
   "source": [
    "**The above data frame shows every 14th row in the list of students selected for scholarship, for sample**"
   ]
  },
  {
   "cell_type": "markdown",
   "id": "552cc6d8",
   "metadata": {},
   "source": [
    "# *Thank You*"
   ]
  },
  {
   "cell_type": "code",
   "execution_count": null,
   "id": "d2d3f1a7",
   "metadata": {},
   "outputs": [],
   "source": []
  }
 ],
 "metadata": {
  "kernelspec": {
   "display_name": "Python 3",
   "language": "python",
   "name": "python3"
  },
  "language_info": {
   "codemirror_mode": {
    "name": "ipython",
    "version": 3
   },
   "file_extension": ".py",
   "mimetype": "text/x-python",
   "name": "python",
   "nbconvert_exporter": "python",
   "pygments_lexer": "ipython3",
   "version": "3.8.8"
  }
 },
 "nbformat": 4,
 "nbformat_minor": 5
}
