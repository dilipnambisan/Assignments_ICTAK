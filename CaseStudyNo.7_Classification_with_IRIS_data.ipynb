{
 "cells": [
  {
   "cell_type": "code",
   "execution_count": 1,
   "id": "7603861b",
   "metadata": {},
   "outputs": [
    {
     "name": "stdout",
     "output_type": "stream",
     "text": [
      "<class 'pandas.core.frame.DataFrame'>\n",
      "RangeIndex: 150 entries, 0 to 149\n",
      "Data columns (total 5 columns):\n",
      " #   Column          Non-Null Count  Dtype  \n",
      "---  ------          --------------  -----  \n",
      " 0   SL              143 non-null    float64\n",
      " 1   SW              144 non-null    float64\n",
      " 2   PL              144 non-null    float64\n",
      " 3   PW              150 non-null    float64\n",
      " 4   Classification  150 non-null    object \n",
      "dtypes: float64(4), object(1)\n",
      "memory usage: 6.0+ KB\n"
     ]
    }
   ],
   "source": [
    "import pandas as pd\n",
    "import numpy as np\n",
    "filename='iris.xls'\n",
    "data=pd.read_excel(filename)\n",
    "data.info()"
   ]
  },
  {
   "cell_type": "code",
   "execution_count": 2,
   "id": "c7e77970",
   "metadata": {},
   "outputs": [],
   "source": [
    "#data_Nulls= data.loc[data.isna().any(axis=1), :]\n",
    "data_Nulls=data"
   ]
  },
  {
   "cell_type": "markdown",
   "id": "c087442f",
   "metadata": {},
   "source": [
    "*The data_Nulls is just a copy of data, created so that if the data_Nulls is messed during coding, we need not repeat the read_excel each time*"
   ]
  },
  {
   "cell_type": "markdown",
   "id": "39fafc74",
   "metadata": {},
   "source": [
    "# Handling null values"
   ]
  },
  {
   "cell_type": "markdown",
   "id": "ab1b3506",
   "metadata": {},
   "source": [
    "**Above is a dataframe that was got by importing from iris.xls and has rows which have atleast one null value. We can see that the missing values are in the columns SL,SW and PL.**\n",
    "\n",
    "There are no missing values in the PW and Classification columns. \n",
    "\n",
    "**Therefore, now, creating a dataframe which will hold the mean values of SL, SW and PL for each of the three species, for null handling**"
   ]
  },
  {
   "cell_type": "code",
   "execution_count": 3,
   "id": "123697b8",
   "metadata": {},
   "outputs": [
    {
     "name": "stdout",
     "output_type": "stream",
     "text": [
      "[5.008510638297872, 5.925, 6.616666666666666]\n",
      "[3.4085106382978725, 2.7812500000000004, 2.96734693877551]\n",
      "[1.46875, 4.252083333333333, 5.547916666666667]\n"
     ]
    }
   ],
   "source": [
    "classification=['Iris-setosa','Iris-versicolor','Iris-virginica']\n",
    "mean_SL=[]\n",
    "for i in np.arange(len(classification)):\n",
    "    mean_SL.append(data['SL'][(data['Classification']==classification[i])].mean())\n",
    "print(mean_SL)\n",
    "\n",
    "mean_SW=[]\n",
    "for i in np.arange(len(classification)):\n",
    "    mean_SW.append(data['SW'][(data['Classification']==classification[i])].mean())\n",
    "print(mean_SW)\n",
    "\n",
    "mean_PL=[]\n",
    "for i in np.arange(len(classification)):\n",
    "    mean_PL.append(data['PL'][(data['Classification']==classification[i])].mean())\n",
    "print(mean_PL)"
   ]
  },
  {
   "cell_type": "code",
   "execution_count": 4,
   "id": "f45012de",
   "metadata": {},
   "outputs": [
    {
     "data": {
      "text/html": [
       "<div>\n",
       "<style scoped>\n",
       "    .dataframe tbody tr th:only-of-type {\n",
       "        vertical-align: middle;\n",
       "    }\n",
       "\n",
       "    .dataframe tbody tr th {\n",
       "        vertical-align: top;\n",
       "    }\n",
       "\n",
       "    .dataframe thead th {\n",
       "        text-align: right;\n",
       "    }\n",
       "</style>\n",
       "<table border=\"1\" class=\"dataframe\">\n",
       "  <thead>\n",
       "    <tr style=\"text-align: right;\">\n",
       "      <th></th>\n",
       "      <th>mean_SL</th>\n",
       "      <th>mean_SW</th>\n",
       "      <th>mean_PL</th>\n",
       "    </tr>\n",
       "    <tr>\n",
       "      <th>Classification</th>\n",
       "      <th></th>\n",
       "      <th></th>\n",
       "      <th></th>\n",
       "    </tr>\n",
       "  </thead>\n",
       "  <tbody>\n",
       "    <tr>\n",
       "      <th>Iris-setosa</th>\n",
       "      <td>5.008511</td>\n",
       "      <td>3.408511</td>\n",
       "      <td>1.468750</td>\n",
       "    </tr>\n",
       "    <tr>\n",
       "      <th>Iris-versicolor</th>\n",
       "      <td>5.925000</td>\n",
       "      <td>2.781250</td>\n",
       "      <td>4.252083</td>\n",
       "    </tr>\n",
       "    <tr>\n",
       "      <th>Iris-virginica</th>\n",
       "      <td>6.616667</td>\n",
       "      <td>2.967347</td>\n",
       "      <td>5.547917</td>\n",
       "    </tr>\n",
       "  </tbody>\n",
       "</table>\n",
       "</div>"
      ],
      "text/plain": [
       "                  mean_SL   mean_SW   mean_PL\n",
       "Classification                               \n",
       "Iris-setosa      5.008511  3.408511  1.468750\n",
       "Iris-versicolor  5.925000  2.781250  4.252083\n",
       "Iris-virginica   6.616667  2.967347  5.547917"
      ]
     },
     "execution_count": 4,
     "metadata": {},
     "output_type": "execute_result"
    }
   ],
   "source": [
    "zipped = list(zip(classification, mean_SL, mean_SW, mean_PL ))\n",
    "data_means = pd.DataFrame(zipped, columns=['Classification', 'mean_SL', 'mean_SW', 'mean_PL'])\n",
    "data_means=data_means.set_index('Classification')\n",
    "data_means"
   ]
  },
  {
   "cell_type": "markdown",
   "id": "c68bafce",
   "metadata": {},
   "source": [
    "**Now replacing all the NaN values in the original dataframe using the mean values from the data_means dataframe**"
   ]
  },
  {
   "cell_type": "code",
   "execution_count": 5,
   "id": "6e848302",
   "metadata": {},
   "outputs": [
    {
     "name": "stdout",
     "output_type": "stream",
     "text": [
      "Iris-setosa\n",
      "5.008510638297872\n",
      "Iris-versicolor\n",
      "5.925\n",
      "Iris-virginica\n",
      "6.616666666666666\n"
     ]
    }
   ],
   "source": [
    "#for i in classification:\n",
    "#    data_Nulls[classification[i]]=data_Nulls[classification[i]].fillna()\n",
    "\n",
    "#data_Nulls['SL'] = data_Nulls.SL.apply(lambda x: x if not pd.isnull(x) else data_means.at[data_Nulls['Classification'],'mean_SL'])\n",
    "for x in classification:\n",
    "    val=data_means.loc[x,'mean_SL']\n",
    "    print(x)\n",
    "    print(val)\n",
    "    data_Nulls.loc[(data_Nulls[\"Classification\"] == x) & (data_Nulls[\"SL\"].isna()), 'SL'] = val\n",
    "#    data_Nulls['SL'] = data_Nulls['SL'].where(data_Nulls['SL'].isnull() & data_Nulls['Classification']==x, val)\n",
    "#    data_Nulls.loc[(data_Nulls['Classification'].eq(x)) & (data_Nulls['SL'].eq(np.NaN)), 'SL'] = val\n",
    "\n"
   ]
  },
  {
   "cell_type": "code",
   "execution_count": 6,
   "id": "7f553178",
   "metadata": {},
   "outputs": [
    {
     "name": "stdout",
     "output_type": "stream",
     "text": [
      "Iris-setosa\n",
      "3.4085106382978725\n",
      "Iris-versicolor\n",
      "2.7812500000000004\n",
      "Iris-virginica\n",
      "2.96734693877551\n"
     ]
    }
   ],
   "source": [
    "for x in classification:\n",
    "    val=data_means.loc[x,'mean_SW']\n",
    "    print(x)\n",
    "    print(val)\n",
    "    data_Nulls.loc[(data_Nulls[\"Classification\"] == x) & (data_Nulls[\"SW\"].isna()), 'SW'] = val"
   ]
  },
  {
   "cell_type": "code",
   "execution_count": 7,
   "id": "7d885096",
   "metadata": {},
   "outputs": [
    {
     "name": "stdout",
     "output_type": "stream",
     "text": [
      "Iris-setosa\n",
      "1.46875\n",
      "Iris-versicolor\n",
      "4.252083333333333\n",
      "Iris-virginica\n",
      "5.547916666666667\n"
     ]
    }
   ],
   "source": [
    "for x in classification:\n",
    "    val=data_means.loc[x,'mean_PL']\n",
    "    print(x)\n",
    "    print(val)\n",
    "    data_Nulls.loc[(data_Nulls[\"Classification\"] == x) & (data_Nulls[\"PL\"].isna()), 'PL'] = val"
   ]
  },
  {
   "cell_type": "markdown",
   "id": "7933d603",
   "metadata": {},
   "source": [
    "**Verifying that the nulls are all replaced in the dataset**"
   ]
  },
  {
   "cell_type": "code",
   "execution_count": 8,
   "id": "b16a6be4",
   "metadata": {},
   "outputs": [
    {
     "data": {
      "text/plain": [
       "SL                0\n",
       "SW                0\n",
       "PL                0\n",
       "PW                0\n",
       "Classification    0\n",
       "dtype: int64"
      ]
     },
     "execution_count": 8,
     "metadata": {},
     "output_type": "execute_result"
    }
   ],
   "source": [
    "data_Nulls.isna().sum()"
   ]
  },
  {
   "cell_type": "code",
   "execution_count": 9,
   "id": "57ef51d1",
   "metadata": {},
   "outputs": [
    {
     "data": {
      "text/html": [
       "<div>\n",
       "<style scoped>\n",
       "    .dataframe tbody tr th:only-of-type {\n",
       "        vertical-align: middle;\n",
       "    }\n",
       "\n",
       "    .dataframe tbody tr th {\n",
       "        vertical-align: top;\n",
       "    }\n",
       "\n",
       "    .dataframe thead th {\n",
       "        text-align: right;\n",
       "    }\n",
       "</style>\n",
       "<table border=\"1\" class=\"dataframe\">\n",
       "  <thead>\n",
       "    <tr style=\"text-align: right;\">\n",
       "      <th></th>\n",
       "      <th>SL</th>\n",
       "      <th>SW</th>\n",
       "      <th>PL</th>\n",
       "      <th>PW</th>\n",
       "    </tr>\n",
       "  </thead>\n",
       "  <tbody>\n",
       "    <tr>\n",
       "      <th>count</th>\n",
       "      <td>150.000000</td>\n",
       "      <td>150.000000</td>\n",
       "      <td>150.000000</td>\n",
       "      <td>150.000000</td>\n",
       "    </tr>\n",
       "    <tr>\n",
       "      <th>mean</th>\n",
       "      <td>5.850059</td>\n",
       "      <td>3.052369</td>\n",
       "      <td>3.756250</td>\n",
       "      <td>1.198667</td>\n",
       "    </tr>\n",
       "    <tr>\n",
       "      <th>std</th>\n",
       "      <td>0.822129</td>\n",
       "      <td>0.426127</td>\n",
       "      <td>1.758949</td>\n",
       "      <td>0.763161</td>\n",
       "    </tr>\n",
       "    <tr>\n",
       "      <th>min</th>\n",
       "      <td>4.300000</td>\n",
       "      <td>2.000000</td>\n",
       "      <td>1.000000</td>\n",
       "      <td>0.100000</td>\n",
       "    </tr>\n",
       "    <tr>\n",
       "      <th>25%</th>\n",
       "      <td>5.100000</td>\n",
       "      <td>2.800000</td>\n",
       "      <td>1.600000</td>\n",
       "      <td>0.300000</td>\n",
       "    </tr>\n",
       "    <tr>\n",
       "      <th>50%</th>\n",
       "      <td>5.800000</td>\n",
       "      <td>3.000000</td>\n",
       "      <td>4.300000</td>\n",
       "      <td>1.300000</td>\n",
       "    </tr>\n",
       "    <tr>\n",
       "      <th>75%</th>\n",
       "      <td>6.400000</td>\n",
       "      <td>3.300000</td>\n",
       "      <td>5.100000</td>\n",
       "      <td>1.800000</td>\n",
       "    </tr>\n",
       "    <tr>\n",
       "      <th>max</th>\n",
       "      <td>7.900000</td>\n",
       "      <td>4.400000</td>\n",
       "      <td>6.900000</td>\n",
       "      <td>2.500000</td>\n",
       "    </tr>\n",
       "  </tbody>\n",
       "</table>\n",
       "</div>"
      ],
      "text/plain": [
       "               SL          SW          PL          PW\n",
       "count  150.000000  150.000000  150.000000  150.000000\n",
       "mean     5.850059    3.052369    3.756250    1.198667\n",
       "std      0.822129    0.426127    1.758949    0.763161\n",
       "min      4.300000    2.000000    1.000000    0.100000\n",
       "25%      5.100000    2.800000    1.600000    0.300000\n",
       "50%      5.800000    3.000000    4.300000    1.300000\n",
       "75%      6.400000    3.300000    5.100000    1.800000\n",
       "max      7.900000    4.400000    6.900000    2.500000"
      ]
     },
     "execution_count": 9,
     "metadata": {},
     "output_type": "execute_result"
    }
   ],
   "source": [
    "data_Nulls.describe()"
   ]
  },
  {
   "cell_type": "markdown",
   "id": "72e735bb",
   "metadata": {},
   "source": [
    "# Splitting data into training and testing"
   ]
  },
  {
   "cell_type": "code",
   "execution_count": 10,
   "id": "cfea9472",
   "metadata": {},
   "outputs": [],
   "source": [
    "X=data_Nulls.drop('Classification', axis=1)\n",
    "y=data_Nulls['Classification']"
   ]
  },
  {
   "cell_type": "code",
   "execution_count": 11,
   "id": "9173baed",
   "metadata": {},
   "outputs": [],
   "source": [
    "from sklearn.model_selection import train_test_split\n",
    "X_train,X_test,y_train,y_test = train_test_split(X,y,random_state=42,test_size=0.2)"
   ]
  },
  {
   "cell_type": "code",
   "execution_count": 12,
   "id": "0c69f69b",
   "metadata": {},
   "outputs": [
    {
     "data": {
      "text/plain": [
       "(120, 4)"
      ]
     },
     "execution_count": 12,
     "metadata": {},
     "output_type": "execute_result"
    }
   ],
   "source": [
    "X_train.shape"
   ]
  },
  {
   "cell_type": "markdown",
   "id": "b6ef9075",
   "metadata": {},
   "source": [
    "# Logistic Regression"
   ]
  },
  {
   "cell_type": "code",
   "execution_count": 13,
   "id": "4c7068af",
   "metadata": {},
   "outputs": [],
   "source": [
    "from sklearn.linear_model import LogisticRegression\n",
    "logit_model=LogisticRegression(solver='lbfgs', max_iter=500)\n",
    "logit_model.fit(X_train,y_train)\n",
    "y_pred=logit_model.predict(X_test)"
   ]
  },
  {
   "cell_type": "code",
   "execution_count": 14,
   "id": "1c9be038",
   "metadata": {},
   "outputs": [],
   "source": [
    "from sklearn.metrics import confusion_matrix, accuracy_score, precision_score, recall_score, f1_score"
   ]
  },
  {
   "cell_type": "code",
   "execution_count": 15,
   "id": "87d53383",
   "metadata": {},
   "outputs": [
    {
     "name": "stdout",
     "output_type": "stream",
     "text": [
      "Accuracy is:  1.0\n"
     ]
    }
   ],
   "source": [
    "print(\"Accuracy is: \",accuracy_score(y_test,y_pred))\n",
    "#print(\"Precision is: \", precision_score(y_test,y_pred))--can be used along with the average='macro' parameter since target is multiclass\n",
    "#print(\"Recall is: \", recall_score(y_test,y_pred))--can be used along with the average='macro' parameter since target is multiclass\n",
    "#print(\"f1 score is: \", f1_score(y_test,y_pred))--can be used along with the average='macro' parameter since target is multiclass"
   ]
  },
  {
   "cell_type": "code",
   "execution_count": 16,
   "id": "8262b108",
   "metadata": {},
   "outputs": [],
   "source": [
    "ser1=pd.DataFrame(y_test)\n",
    "ser1.reset_index(inplace=True)\n",
    "ser2=pd.DataFrame(y_pred)\n",
    "ser2 = ser2.rename(columns = {0:'Classification'})\n",
    "ser2.reset_index(inplace=True)"
   ]
  },
  {
   "cell_type": "code",
   "execution_count": 17,
   "id": "bb8d0f8e",
   "metadata": {},
   "outputs": [
    {
     "data": {
      "text/html": [
       "<div>\n",
       "<style scoped>\n",
       "    .dataframe tbody tr th:only-of-type {\n",
       "        vertical-align: middle;\n",
       "    }\n",
       "\n",
       "    .dataframe tbody tr th {\n",
       "        vertical-align: top;\n",
       "    }\n",
       "\n",
       "    .dataframe thead th {\n",
       "        text-align: right;\n",
       "    }\n",
       "</style>\n",
       "<table border=\"1\" class=\"dataframe\">\n",
       "  <thead>\n",
       "    <tr style=\"text-align: right;\">\n",
       "      <th></th>\n",
       "      <th>index_x</th>\n",
       "      <th>Classification_x</th>\n",
       "      <th>index_y</th>\n",
       "      <th>Classification_y</th>\n",
       "    </tr>\n",
       "  </thead>\n",
       "  <tbody>\n",
       "    <tr>\n",
       "      <th>0</th>\n",
       "      <td>73</td>\n",
       "      <td>Iris-versicolor</td>\n",
       "      <td>0</td>\n",
       "      <td>Iris-versicolor</td>\n",
       "    </tr>\n",
       "    <tr>\n",
       "      <th>1</th>\n",
       "      <td>18</td>\n",
       "      <td>Iris-setosa</td>\n",
       "      <td>1</td>\n",
       "      <td>Iris-setosa</td>\n",
       "    </tr>\n",
       "    <tr>\n",
       "      <th>2</th>\n",
       "      <td>118</td>\n",
       "      <td>Iris-virginica</td>\n",
       "      <td>2</td>\n",
       "      <td>Iris-virginica</td>\n",
       "    </tr>\n",
       "    <tr>\n",
       "      <th>3</th>\n",
       "      <td>78</td>\n",
       "      <td>Iris-versicolor</td>\n",
       "      <td>3</td>\n",
       "      <td>Iris-versicolor</td>\n",
       "    </tr>\n",
       "    <tr>\n",
       "      <th>4</th>\n",
       "      <td>76</td>\n",
       "      <td>Iris-versicolor</td>\n",
       "      <td>4</td>\n",
       "      <td>Iris-versicolor</td>\n",
       "    </tr>\n",
       "    <tr>\n",
       "      <th>5</th>\n",
       "      <td>31</td>\n",
       "      <td>Iris-setosa</td>\n",
       "      <td>5</td>\n",
       "      <td>Iris-setosa</td>\n",
       "    </tr>\n",
       "    <tr>\n",
       "      <th>6</th>\n",
       "      <td>64</td>\n",
       "      <td>Iris-versicolor</td>\n",
       "      <td>6</td>\n",
       "      <td>Iris-versicolor</td>\n",
       "    </tr>\n",
       "    <tr>\n",
       "      <th>7</th>\n",
       "      <td>141</td>\n",
       "      <td>Iris-virginica</td>\n",
       "      <td>7</td>\n",
       "      <td>Iris-virginica</td>\n",
       "    </tr>\n",
       "    <tr>\n",
       "      <th>8</th>\n",
       "      <td>68</td>\n",
       "      <td>Iris-versicolor</td>\n",
       "      <td>8</td>\n",
       "      <td>Iris-versicolor</td>\n",
       "    </tr>\n",
       "    <tr>\n",
       "      <th>9</th>\n",
       "      <td>82</td>\n",
       "      <td>Iris-versicolor</td>\n",
       "      <td>9</td>\n",
       "      <td>Iris-versicolor</td>\n",
       "    </tr>\n",
       "    <tr>\n",
       "      <th>10</th>\n",
       "      <td>110</td>\n",
       "      <td>Iris-virginica</td>\n",
       "      <td>10</td>\n",
       "      <td>Iris-virginica</td>\n",
       "    </tr>\n",
       "    <tr>\n",
       "      <th>11</th>\n",
       "      <td>12</td>\n",
       "      <td>Iris-setosa</td>\n",
       "      <td>11</td>\n",
       "      <td>Iris-setosa</td>\n",
       "    </tr>\n",
       "    <tr>\n",
       "      <th>12</th>\n",
       "      <td>36</td>\n",
       "      <td>Iris-setosa</td>\n",
       "      <td>12</td>\n",
       "      <td>Iris-setosa</td>\n",
       "    </tr>\n",
       "    <tr>\n",
       "      <th>13</th>\n",
       "      <td>9</td>\n",
       "      <td>Iris-setosa</td>\n",
       "      <td>13</td>\n",
       "      <td>Iris-setosa</td>\n",
       "    </tr>\n",
       "    <tr>\n",
       "      <th>14</th>\n",
       "      <td>19</td>\n",
       "      <td>Iris-setosa</td>\n",
       "      <td>14</td>\n",
       "      <td>Iris-setosa</td>\n",
       "    </tr>\n",
       "    <tr>\n",
       "      <th>15</th>\n",
       "      <td>56</td>\n",
       "      <td>Iris-versicolor</td>\n",
       "      <td>15</td>\n",
       "      <td>Iris-versicolor</td>\n",
       "    </tr>\n",
       "    <tr>\n",
       "      <th>16</th>\n",
       "      <td>104</td>\n",
       "      <td>Iris-virginica</td>\n",
       "      <td>16</td>\n",
       "      <td>Iris-virginica</td>\n",
       "    </tr>\n",
       "    <tr>\n",
       "      <th>17</th>\n",
       "      <td>69</td>\n",
       "      <td>Iris-versicolor</td>\n",
       "      <td>17</td>\n",
       "      <td>Iris-versicolor</td>\n",
       "    </tr>\n",
       "    <tr>\n",
       "      <th>18</th>\n",
       "      <td>55</td>\n",
       "      <td>Iris-versicolor</td>\n",
       "      <td>18</td>\n",
       "      <td>Iris-versicolor</td>\n",
       "    </tr>\n",
       "    <tr>\n",
       "      <th>19</th>\n",
       "      <td>132</td>\n",
       "      <td>Iris-virginica</td>\n",
       "      <td>19</td>\n",
       "      <td>Iris-virginica</td>\n",
       "    </tr>\n",
       "    <tr>\n",
       "      <th>20</th>\n",
       "      <td>29</td>\n",
       "      <td>Iris-setosa</td>\n",
       "      <td>20</td>\n",
       "      <td>Iris-setosa</td>\n",
       "    </tr>\n",
       "    <tr>\n",
       "      <th>21</th>\n",
       "      <td>127</td>\n",
       "      <td>Iris-virginica</td>\n",
       "      <td>21</td>\n",
       "      <td>Iris-virginica</td>\n",
       "    </tr>\n",
       "    <tr>\n",
       "      <th>22</th>\n",
       "      <td>26</td>\n",
       "      <td>Iris-setosa</td>\n",
       "      <td>22</td>\n",
       "      <td>Iris-setosa</td>\n",
       "    </tr>\n",
       "    <tr>\n",
       "      <th>23</th>\n",
       "      <td>128</td>\n",
       "      <td>Iris-virginica</td>\n",
       "      <td>23</td>\n",
       "      <td>Iris-virginica</td>\n",
       "    </tr>\n",
       "    <tr>\n",
       "      <th>24</th>\n",
       "      <td>131</td>\n",
       "      <td>Iris-virginica</td>\n",
       "      <td>24</td>\n",
       "      <td>Iris-virginica</td>\n",
       "    </tr>\n",
       "    <tr>\n",
       "      <th>25</th>\n",
       "      <td>145</td>\n",
       "      <td>Iris-virginica</td>\n",
       "      <td>25</td>\n",
       "      <td>Iris-virginica</td>\n",
       "    </tr>\n",
       "    <tr>\n",
       "      <th>26</th>\n",
       "      <td>108</td>\n",
       "      <td>Iris-virginica</td>\n",
       "      <td>26</td>\n",
       "      <td>Iris-virginica</td>\n",
       "    </tr>\n",
       "    <tr>\n",
       "      <th>27</th>\n",
       "      <td>143</td>\n",
       "      <td>Iris-virginica</td>\n",
       "      <td>27</td>\n",
       "      <td>Iris-virginica</td>\n",
       "    </tr>\n",
       "    <tr>\n",
       "      <th>28</th>\n",
       "      <td>45</td>\n",
       "      <td>Iris-setosa</td>\n",
       "      <td>28</td>\n",
       "      <td>Iris-setosa</td>\n",
       "    </tr>\n",
       "    <tr>\n",
       "      <th>29</th>\n",
       "      <td>30</td>\n",
       "      <td>Iris-setosa</td>\n",
       "      <td>29</td>\n",
       "      <td>Iris-setosa</td>\n",
       "    </tr>\n",
       "  </tbody>\n",
       "</table>\n",
       "</div>"
      ],
      "text/plain": [
       "    index_x Classification_x  index_y Classification_y\n",
       "0        73  Iris-versicolor        0  Iris-versicolor\n",
       "1        18      Iris-setosa        1      Iris-setosa\n",
       "2       118   Iris-virginica        2   Iris-virginica\n",
       "3        78  Iris-versicolor        3  Iris-versicolor\n",
       "4        76  Iris-versicolor        4  Iris-versicolor\n",
       "5        31      Iris-setosa        5      Iris-setosa\n",
       "6        64  Iris-versicolor        6  Iris-versicolor\n",
       "7       141   Iris-virginica        7   Iris-virginica\n",
       "8        68  Iris-versicolor        8  Iris-versicolor\n",
       "9        82  Iris-versicolor        9  Iris-versicolor\n",
       "10      110   Iris-virginica       10   Iris-virginica\n",
       "11       12      Iris-setosa       11      Iris-setosa\n",
       "12       36      Iris-setosa       12      Iris-setosa\n",
       "13        9      Iris-setosa       13      Iris-setosa\n",
       "14       19      Iris-setosa       14      Iris-setosa\n",
       "15       56  Iris-versicolor       15  Iris-versicolor\n",
       "16      104   Iris-virginica       16   Iris-virginica\n",
       "17       69  Iris-versicolor       17  Iris-versicolor\n",
       "18       55  Iris-versicolor       18  Iris-versicolor\n",
       "19      132   Iris-virginica       19   Iris-virginica\n",
       "20       29      Iris-setosa       20      Iris-setosa\n",
       "21      127   Iris-virginica       21   Iris-virginica\n",
       "22       26      Iris-setosa       22      Iris-setosa\n",
       "23      128   Iris-virginica       23   Iris-virginica\n",
       "24      131   Iris-virginica       24   Iris-virginica\n",
       "25      145   Iris-virginica       25   Iris-virginica\n",
       "26      108   Iris-virginica       26   Iris-virginica\n",
       "27      143   Iris-virginica       27   Iris-virginica\n",
       "28       45      Iris-setosa       28      Iris-setosa\n",
       "29       30      Iris-setosa       29      Iris-setosa"
      ]
     },
     "execution_count": 17,
     "metadata": {},
     "output_type": "execute_result"
    }
   ],
   "source": [
    "pd.merge(ser1,ser2,left_index=True,right_index=True)\n",
    "#ser1.join(ser2)"
   ]
  },
  {
   "cell_type": "markdown",
   "id": "5e7b73be",
   "metadata": {},
   "source": [
    "**As seen above the test data, and the predicted data are exactly the same when looking at Classification**"
   ]
  },
  {
   "cell_type": "markdown",
   "id": "fade21f0",
   "metadata": {},
   "source": [
    "# KNN"
   ]
  },
  {
   "cell_type": "code",
   "execution_count": 18,
   "id": "2f8d6cff",
   "metadata": {},
   "outputs": [],
   "source": [
    "from sklearn.neighbors import KNeighborsClassifier\n",
    "acc_values=[]\n",
    "neighbors = np.arange(3,15)\n",
    "for k in neighbors:\n",
    "    classifier = KNeighborsClassifier(n_neighbors=k, metric='minkowski')\n",
    "    classifier.fit(X_train,y_train)\n",
    "    y_pred = classifier.predict(X_test)\n",
    "    acc=accuracy_score(y_test,y_pred)\n",
    "    acc_values.append(acc)"
   ]
  },
  {
   "cell_type": "code",
   "execution_count": 19,
   "id": "a3e83898",
   "metadata": {},
   "outputs": [
    {
     "data": {
      "text/plain": [
       "[0.9666666666666667,\n",
       " 1.0,\n",
       " 1.0,\n",
       " 1.0,\n",
       " 0.9666666666666667,\n",
       " 0.9666666666666667,\n",
       " 0.9666666666666667,\n",
       " 1.0,\n",
       " 1.0,\n",
       " 1.0,\n",
       " 1.0,\n",
       " 1.0]"
      ]
     },
     "execution_count": 19,
     "metadata": {},
     "output_type": "execute_result"
    }
   ],
   "source": [
    "acc_values"
   ]
  },
  {
   "cell_type": "code",
   "execution_count": 20,
   "id": "48609595",
   "metadata": {},
   "outputs": [
    {
     "data": {
      "text/plain": [
       "Text(0, 0.5, 'accuracy')"
      ]
     },
     "execution_count": 20,
     "metadata": {},
     "output_type": "execute_result"
    },
    {
     "data": {
      "image/png": "[encoded data removed]",
      "text/plain": [
       "<Figure size 432x288 with 1 Axes>"
      ]
     },
     "metadata": {
      "needs_background": "light"
     },
     "output_type": "display_data"
    }
   ],
   "source": [
    "import matplotlib.pyplot as plt\n",
    "plt.plot(neighbors,acc_values, 'o-')\n",
    "plt.xlabel('k value')\n",
    "plt.ylabel('accuracy')"
   ]
  },
  {
   "cell_type": "markdown",
   "id": "ef0e6403",
   "metadata": {},
   "source": [
    "**As seen above, the accuracy values are highest for the k value of (4,5,6, 10,11...14). So, we shall proceed with k=4 for our KNN model**"
   ]
  },
  {
   "cell_type": "code",
   "execution_count": 21,
   "id": "9a822da0",
   "metadata": {},
   "outputs": [],
   "source": [
    "classifier = KNeighborsClassifier(n_neighbors=4, metric='minkowski')\n",
    "classifier.fit(X_train,y_train)\n",
    "y_pred = classifier.predict(X_test)"
   ]
  },
  {
   "cell_type": "code",
   "execution_count": 25,
   "id": "66907d33",
   "metadata": {},
   "outputs": [
    {
     "name": "stdout",
     "output_type": "stream",
     "text": [
      "Accuracy is:  1.0\n",
      "Precision is:  1.0\n",
      "Recall is:  1.0\n",
      "f1 score is:  1.0\n"
     ]
    }
   ],
   "source": [
    "print(\"Accuracy is: \",accuracy_score(y_test,y_pred))\n",
    "print(\"Precision is: \", precision_score(y_test,y_pred, average='macro'))\n",
    "print(\"Recall is: \", recall_score(y_test,y_pred,average='macro'))\n",
    "print(\"f1 score is: \", f1_score(y_test,y_pred,average='macro'))"
   ]
  },
  {
   "cell_type": "code",
   "execution_count": 23,
   "id": "efb9d29e",
   "metadata": {},
   "outputs": [
    {
     "data": {
      "text/plain": [
       "array([[10,  0,  0],\n",
       "       [ 0,  9,  0],\n",
       "       [ 0,  0, 11]], dtype=int64)"
      ]
     },
     "execution_count": 23,
     "metadata": {},
     "output_type": "execute_result"
    }
   ],
   "source": [
    "confusion_matrix(y_test,y_pred)"
   ]
  },
  {
   "cell_type": "markdown",
   "id": "e0fed605",
   "metadata": {},
   "source": [
    "# DT algorithm"
   ]
  },
  {
   "cell_type": "code",
   "execution_count": 26,
   "id": "038ce701",
   "metadata": {},
   "outputs": [
    {
     "name": "stdout",
     "output_type": "stream",
     "text": [
      "Accuracy with the Decision tree model is:  1.0\n"
     ]
    }
   ],
   "source": [
    "from sklearn.tree import DecisionTreeClassifier\n",
    "dt_model = DecisionTreeClassifier()\n",
    "dt_model.fit(X_train,y_train)\n",
    "y_pred = dt_model.predict(X_test)\n",
    "print(\"Accuracy with the Decision tree model is: \", accuracy_score(y_test,y_pred))"
   ]
  },
  {
   "cell_type": "code",
   "execution_count": 27,
   "id": "d7a6f325",
   "metadata": {},
   "outputs": [
    {
     "data": {
      "text/plain": [
       "Iris-virginica     11\n",
       "Iris-setosa        10\n",
       "Iris-versicolor     9\n",
       "Name: Classification, dtype: int64"
      ]
     },
     "execution_count": 27,
     "metadata": {},
     "output_type": "execute_result"
    }
   ],
   "source": [
    "y_test.value_counts()"
   ]
  },
  {
   "cell_type": "code",
   "execution_count": 28,
   "id": "f08e121b",
   "metadata": {},
   "outputs": [
    {
     "data": {
      "text/plain": [
       "array([[10,  0,  0],\n",
       "       [ 0,  9,  0],\n",
       "       [ 0,  0, 11]], dtype=int64)"
      ]
     },
     "execution_count": 28,
     "metadata": {},
     "output_type": "execute_result"
    }
   ],
   "source": [
    "confusion_matrix(y_test,y_pred)"
   ]
  },
  {
   "cell_type": "markdown",
   "id": "0bc60a1f",
   "metadata": {},
   "source": [
    "**As shown in the above confusion matrix, there are zero misclassifications**"
   ]
  },
  {
   "cell_type": "markdown",
   "id": "447f8624",
   "metadata": {},
   "source": [
    "# SVM"
   ]
  },
  {
   "cell_type": "code",
   "execution_count": 29,
   "id": "961d2a28",
   "metadata": {},
   "outputs": [
    {
     "data": {
      "text/plain": [
       "SVC(kernel='linear')"
      ]
     },
     "execution_count": 29,
     "metadata": {},
     "output_type": "execute_result"
    }
   ],
   "source": [
    "from sklearn.svm import SVC\n",
    "svm_linear= SVC(kernel='linear')\n",
    "svm_linear.fit(X_train,y_train)"
   ]
  },
  {
   "cell_type": "code",
   "execution_count": 30,
   "id": "a3308def",
   "metadata": {},
   "outputs": [],
   "source": [
    "y_pred=svm_linear.predict(X_test)"
   ]
  },
  {
   "cell_type": "code",
   "execution_count": 31,
   "id": "d72d72b1",
   "metadata": {},
   "outputs": [
    {
     "name": "stdout",
     "output_type": "stream",
     "text": [
      "Accuracy with the SVM linear model is:  1.0\n"
     ]
    }
   ],
   "source": [
    "print(\"Accuracy with the SVM linear model is: \", accuracy_score(y_test,y_pred))"
   ]
  },
  {
   "cell_type": "markdown",
   "id": "f34fd34c",
   "metadata": {},
   "source": [
    "# Radial SVM"
   ]
  },
  {
   "cell_type": "code",
   "execution_count": 32,
   "id": "64ac7a32",
   "metadata": {},
   "outputs": [
    {
     "data": {
      "text/plain": [
       "SVC()"
      ]
     },
     "execution_count": 32,
     "metadata": {},
     "output_type": "execute_result"
    }
   ],
   "source": [
    "svm_radial=SVC(kernel='rbf')\n",
    "svm_radial.fit(X_train,y_train)"
   ]
  },
  {
   "cell_type": "code",
   "execution_count": 33,
   "id": "f7e13e03",
   "metadata": {},
   "outputs": [],
   "source": [
    "y_pred=svm_radial.predict(X_test)"
   ]
  },
  {
   "cell_type": "code",
   "execution_count": 34,
   "id": "c70b55c5",
   "metadata": {},
   "outputs": [
    {
     "name": "stdout",
     "output_type": "stream",
     "text": [
      "Accuracy with the SVM radial model is:  1.0\n"
     ]
    }
   ],
   "source": [
    "print(\"Accuracy with the SVM radial model is: \", accuracy_score(y_test,y_pred))"
   ]
  },
  {
   "cell_type": "markdown",
   "id": "4786299f",
   "metadata": {},
   "source": [
    "# Random Forest Classifier"
   ]
  },
  {
   "cell_type": "code",
   "execution_count": 35,
   "id": "4e8679b6",
   "metadata": {},
   "outputs": [],
   "source": [
    "from sklearn.ensemble import RandomForestClassifier\n",
    "rf=RandomForestClassifier()\n",
    "rf.fit(X_train,y_train)\n",
    "y_pred=rf.predict(X_test)"
   ]
  },
  {
   "cell_type": "code",
   "execution_count": 36,
   "id": "10b39aa3",
   "metadata": {},
   "outputs": [
    {
     "name": "stdout",
     "output_type": "stream",
     "text": [
      "Accuracy is:  1.0\n",
      "Precision is:  1.0\n",
      "Recall is:  1.0\n",
      "f1 score is:  1.0\n"
     ]
    }
   ],
   "source": [
    "print(\"Accuracy is: \",accuracy_score(y_test,y_pred))\n",
    "print(\"Precision is: \", precision_score(y_test,y_pred, average='macro'))\n",
    "print(\"Recall is: \", recall_score(y_test,y_pred,average='macro'))\n",
    "print(\"f1 score is: \", f1_score(y_test,y_pred,average='macro'))"
   ]
  },
  {
   "cell_type": "code",
   "execution_count": 37,
   "id": "dea95d65",
   "metadata": {},
   "outputs": [
    {
     "data": {
      "text/plain": [
       "array([[10,  0,  0],\n",
       "       [ 0,  9,  0],\n",
       "       [ 0,  0, 11]], dtype=int64)"
      ]
     },
     "execution_count": 37,
     "metadata": {},
     "output_type": "execute_result"
    }
   ],
   "source": [
    "confusion_matrix(y_test,y_pred)"
   ]
  },
  {
   "cell_type": "markdown",
   "id": "9c9df6b1",
   "metadata": {},
   "source": [
    "**Feature Importance**"
   ]
  },
  {
   "cell_type": "code",
   "execution_count": 38,
   "id": "ad932dbd",
   "metadata": {},
   "outputs": [
    {
     "data": {
      "text/plain": [
       "PL    0.435529\n",
       "PW    0.423250\n",
       "SL    0.114462\n",
       "SW    0.026760\n",
       "dtype: float64"
      ]
     },
     "execution_count": 38,
     "metadata": {},
     "output_type": "execute_result"
    }
   ],
   "source": [
    "pd.Series(rf.feature_importances_,index=X.columns).sort_values(ascending=False)"
   ]
  },
  {
   "cell_type": "markdown",
   "id": "5e7bb81c",
   "metadata": {},
   "source": [
    "**From above, it can be seen that SW(sepal width) is comparatively of low importance. Since the model is accurate enough, ie, accuracy=1.0 , we do not need to remove that feature**"
   ]
  },
  {
   "cell_type": "markdown",
   "id": "f9cbc39a",
   "metadata": {},
   "source": [
    "# Therefore, we can conclude that for the given IRIS dataset, and using the null handling as shown in the above code, all of the classification algorithms(LogReg,KNN,SVM,DT,RF) give an accuracy of 1.0, and so, any of them can be used to create the prediction model"
   ]
  },
  {
   "cell_type": "code",
   "execution_count": null,
   "id": "a00ea487",
   "metadata": {},
   "outputs": [],
   "source": []
  }
 ],
 "metadata": {
  "kernelspec": {
   "display_name": "Python 3",
   "language": "python",
   "name": "python3"
  },
  "language_info": {
   "codemirror_mode": {
    "name": "ipython",
    "version": 3
   },
   "file_extension": ".py",
   "mimetype": "text/x-python",
   "name": "python",
   "nbconvert_exporter": "python",
   "pygments_lexer": "ipython3",
   "version": "3.8.8"
  }
 },
 "nbformat": 4,
 "nbformat_minor": 5
}
